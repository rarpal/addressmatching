{
 "cells": [
  {
   "cell_type": "code",
   "execution_count": 1,
   "metadata": {},
   "outputs": [],
   "source": [
    "from pipeline.util.platform import start_spark, start_spark_local\n",
    "from pipeline.util.storage import read_csv, read_parquet, write_parquet, write_repart_parquet, write_delta, write_deltatable\n",
    "from pyspark.sql import functions as F\n",
    "from pyspark.sql import types as T\n",
    "from delta import *\n",
    "import time"
   ]
  },
  {
   "cell_type": "code",
   "execution_count": 2,
   "metadata": {},
   "outputs": [
    {
     "name": "stdout",
     "output_type": "stream",
     "text": [
      "local\n"
     ]
    }
   ],
   "source": [
    "spark, loggrer, conf = start_spark(app_name='addessmatch_etl_job')"
   ]
  },
  {
   "cell_type": "code",
   "execution_count": 3,
   "metadata": {},
   "outputs": [],
   "source": [
    "df_ab = read_parquet(spark, \"{storage_curated}/data/in/addressbase\".format(storage_curated = spark.conf.get('storage.curated')))"
   ]
  },
  {
   "cell_type": "code",
   "execution_count": 79,
   "metadata": {},
   "outputs": [],
   "source": [
    "df_ab_id = df_ab.withColumn(\"ADDRESS_ID\", F.monotonically_increasing_id() + F.unix_timestamp(F.current_timestamp()))"
   ]
  },
  {
   "cell_type": "code",
   "execution_count": 80,
   "metadata": {},
   "outputs": [],
   "source": [
    "df_ab_id.createOrReplaceTempView(\"address_in\")"
   ]
  },
  {
   "cell_type": "code",
   "execution_count": 82,
   "metadata": {},
   "outputs": [
    {
     "data": {
      "text/plain": [
       "DataFrame[]"
      ]
     },
     "execution_count": 82,
     "metadata": {},
     "output_type": "execute_result"
    }
   ],
   "source": [
    "loc = \"'{storage_curated}/data/out/address'\".format(storage_curated = spark.conf.get('storage.curated'))\n",
    "\n",
    "#spark.sql(f\"DROP TABLE IF EXISTS ADDRESS\")\n",
    "spark.sql(f\"CREATE OR REPLACE TABLE ADDRESS ( \\\n",
    "          UPRN VARCHAR(12), \\\n",
    "          OUTCODE STRING, \\\n",
    "          LOCALITY STRING, \\\n",
    "          ADDRESS STRING, \\\n",
    "          ADDRESS_ID BIGINT )  \\\n",
    "          USING DELTA  \\\n",
    "          LOCATION {loc}\")"
   ]
  },
  {
   "cell_type": "code",
   "execution_count": 84,
   "metadata": {},
   "outputs": [
    {
     "data": {
      "text/plain": [
       "DataFrame[]"
      ]
     },
     "execution_count": 84,
     "metadata": {},
     "output_type": "execute_result"
    }
   ],
   "source": [
    "# spark.sql(f\"INSERT INTO ADDRESS ( \\\n",
    "#           UPRN,OUTCODE,LOCALITY,ADDRESS,ADDRESS_ID )  \\\n",
    "#           SELECT \\\n",
    "#           UPRN,OUTCODE,LOCALITY,ADDRESS,ADDRESS_ID \\\n",
    "#           FROM address_in\")"
   ]
  },
  {
   "cell_type": "code",
   "execution_count": 102,
   "metadata": {},
   "outputs": [
    {
     "data": {
      "text/plain": [
       "DataFrame[num_affected_rows: bigint, num_updated_rows: bigint, num_deleted_rows: bigint, num_inserted_rows: bigint]"
      ]
     },
     "execution_count": 102,
     "metadata": {},
     "output_type": "execute_result"
    }
   ],
   "source": [
    "spark.sql(f\"MERGE INTO ADDRESS \\\n",
    "          USING address_in \\\n",
    "          ON ADDRESS.UPRN = address_in.UPRN \\\n",
    "          WHEN MATCHED THEN \\\n",
    "            UPDATE SET \\\n",
    "              OUTCODE = address_in.OUTCODE, \\\n",
    "              LOCALITY = address_in.LOCALITY, \\\n",
    "              ADDRESS = address_in.ADDRESS \\\n",
    "          WHEN NOT MATCHED THEN \\\n",
    "            INSERT ( \\\n",
    "              UPRN, OUTCODE, LOCALITY, ADDRESS, ADDRESS_ID \\\n",
    "            ) VALUES ( \\\n",
    "              address_in.UPRN, address_in.OUTCODE, address_in.LOCALITY, address_in.ADDRESS, address_in.ADDRESS_ID \\\n",
    "            )\")"
   ]
  },
  {
   "cell_type": "code",
   "execution_count": 14,
   "metadata": {},
   "outputs": [],
   "source": [
    "#write_delta(spark, df_abmatch, \"{storage_curated}/data/out/address\".format(storage_curated = spark.conf.get('storage.curated')))"
   ]
  },
  {
   "cell_type": "code",
   "execution_count": null,
   "metadata": {},
   "outputs": [],
   "source": [
    "# DeltaTable.createOrReplace(spark) \\\n",
    "#     .tableName(\"address\") \\\n",
    "#     .location(\"{storage_curated}/data/out/address\".format(storage_curated = spark.conf.get('storage.curated'))) \\\n",
    "#     .addColumn(\"UPRN\", \"VARCHAR(12)\") \\\n",
    "#     .addColumn(\"OUTCODE\", \"STRING\") \\\n",
    "#     .addColumn(\"LOCALITY\", \"STRING\") \\\n",
    "#     .addColumn(\"ADDRESS\", \"STRING\") \\\n",
    "#     .addColumn(\"ADDRESS_ID\", \"BIGINT\", generatedAlwaysAs=F.monotonically_increasing_id()) \\\n",
    "#     .execute()"
   ]
  },
  {
   "cell_type": "code",
   "execution_count": 7,
   "metadata": {},
   "outputs": [
    {
     "name": "stdout",
     "output_type": "stream",
     "text": [
      "+-----------------------+\n",
      "|count(DISTINCT OUTCODE)|\n",
      "+-----------------------+\n",
      "|1982                   |\n",
      "+-----------------------+\n",
      "\n"
     ]
    }
   ],
   "source": [
    "#DeltaTable.isDeltaTable(spark, \"{storage_curated}/data/out/address\".format(storage_curated = spark.conf.get('storage.curated'))) # True\n",
    "#spark.sql(\"show tables in default\").show(truncate=False)\n",
    "#spark.sql(\"describe table extended address_in\").show(truncate=False)\n",
    "#spark.sql(\"select * from address_in\").show(truncate=False)\n",
    "#spark.sql(\"select count(distinct OUTCODE) from ADDRESS\").show(truncate=False)\n",
    "#spark.sql(\"select count(*) from address\").show()\n",
    "#spark.sql(\"USE hive_metastore\")\n",
    "#spark.sql(\"show databases\").show(truncate=False)\n",
    "#spark.sql(\"show tables\").show(truncate=False)\n",
    "#spark.sql(\"drop table address\")\n",
    "#spark.sql(\"delete from address\")\n",
    "#print(spark.sharedState.externalCatalog.unwrapped)\n",
    "#spark.catalog.listTables()\n",
    "#spark.catalog.currentDatabase()\n",
    "#spark.sparkContext.getConf().getAll()\n",
    "#df_ab_id.printSchema()\n",
    "#df_ab_id.show(truncate=False)\n",
    "#df_ab.printSchema()"
   ]
  }
 ],
 "metadata": {
  "kernelspec": {
   "display_name": "Python 3",
   "language": "python",
   "name": "python3"
  },
  "language_info": {
   "codemirror_mode": {
    "name": "ipython",
    "version": 3
   },
   "file_extension": ".py",
   "mimetype": "text/x-python",
   "name": "python",
   "nbconvert_exporter": "python",
   "pygments_lexer": "ipython3",
   "version": "3.10.13"
  }
 },
 "nbformat": 4,
 "nbformat_minor": 2
}
