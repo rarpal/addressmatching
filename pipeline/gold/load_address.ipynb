{
 "cells": [
  {
   "cell_type": "code",
   "execution_count": 29,
   "metadata": {},
   "outputs": [],
   "source": [
    "from pipeline.util.platform import start_spark, start_spark_local\n",
    "from pipeline.util.storage import read_csv, read_parquet, write_parquet, write_repart_parquet, write_delta, write_deltatable\n",
    "from pyspark.sql import functions as F\n",
    "from pyspark.sql import types as T\n",
    "from delta import *\n",
    "import time"
   ]
  },
  {
   "cell_type": "code",
   "execution_count": 2,
   "metadata": {},
   "outputs": [
    {
     "name": "stdout",
     "output_type": "stream",
     "text": [
      "local\n"
     ]
    }
   ],
   "source": [
    "spark, loggrer, conf = start_spark(app_name='addessmatch_etl_job')"
   ]
  },
  {
   "cell_type": "code",
   "execution_count": 3,
   "metadata": {},
   "outputs": [],
   "source": [
    "df_ab = read_parquet(spark, \"{storage_curated}/data/in/addressbase\".format(storage_curated = spark.conf.get('storage.curated')))"
   ]
  },
  {
   "cell_type": "code",
   "execution_count": 79,
   "metadata": {},
   "outputs": [],
   "source": [
    "df_ab_id = df_ab.withColumn(\"ADDRESS_ID\", F.monotonically_increasing_id() + F.unix_timestamp(F.current_timestamp()))"
   ]
  },
  {
   "cell_type": "code",
   "execution_count": 80,
   "metadata": {},
   "outputs": [],
   "source": [
    "df_ab_id.createOrReplaceTempView(\"address_in\")"
   ]
  },
  {
   "cell_type": "code",
   "execution_count": 82,
   "metadata": {},
   "outputs": [
    {
     "data": {
      "text/plain": [
       "DataFrame[]"
      ]
     },
     "execution_count": 82,
     "metadata": {},
     "output_type": "execute_result"
    }
   ],
   "source": [
    "loc = \"'{storage_curated}/data/out/address'\".format(storage_curated = spark.conf.get('storage.curated'))\n",
    "\n",
    "#spark.sql(f\"DROP TABLE IF EXISTS ADDRESS\")\n",
    "spark.sql(f\"CREATE OR REPLACE TABLE ADDRESS ( \\\n",
    "          UPRN VARCHAR(12), \\\n",
    "          OUTCODE STRING, \\\n",
    "          LOCALITY STRING, \\\n",
    "          ADDRESS STRING, \\\n",
    "          ADDRESS_ID BIGINT )  \\\n",
    "          USING DELTA  \\\n",
    "          LOCATION {loc}\")"
   ]
  },
  {
   "cell_type": "code",
   "execution_count": 84,
   "metadata": {},
   "outputs": [
    {
     "data": {
      "text/plain": [
       "DataFrame[]"
      ]
     },
     "execution_count": 84,
     "metadata": {},
     "output_type": "execute_result"
    }
   ],
   "source": [
    "# spark.sql(f\"INSERT INTO ADDRESS ( \\\n",
    "#           UPRN,OUTCODE,LOCALITY,ADDRESS,ADDRESS_ID )  \\\n",
    "#           SELECT \\\n",
    "#           UPRN,OUTCODE,LOCALITY,ADDRESS,ADDRESS_ID \\\n",
    "#           FROM address_in\")"
   ]
  },
  {
   "cell_type": "code",
   "execution_count": 102,
   "metadata": {},
   "outputs": [
    {
     "data": {
      "text/plain": [
       "DataFrame[num_affected_rows: bigint, num_updated_rows: bigint, num_deleted_rows: bigint, num_inserted_rows: bigint]"
      ]
     },
     "execution_count": 102,
     "metadata": {},
     "output_type": "execute_result"
    }
   ],
   "source": [
    "spark.sql(f\"MERGE INTO ADDRESS \\\n",
    "          USING address_in \\\n",
    "          ON ADDRESS.UPRN = address_in.UPRN \\\n",
    "          WHEN MATCHED THEN \\\n",
    "            UPDATE SET \\\n",
    "              OUTCODE = address_in.OUTCODE, \\\n",
    "              LOCALITY = address_in.LOCALITY, \\\n",
    "              ADDRESS = address_in.ADDRESS \\\n",
    "          WHEN NOT MATCHED THEN \\\n",
    "            INSERT ( \\\n",
    "              UPRN, OUTCODE, LOCALITY, ADDRESS, ADDRESS_ID \\\n",
    "            ) VALUES ( \\\n",
    "              address_in.UPRN, address_in.OUTCODE, address_in.LOCALITY, address_in.ADDRESS, address_in.ADDRESS_ID \\\n",
    "            )\")"
   ]
  },
  {
   "cell_type": "code",
   "execution_count": 14,
   "metadata": {},
   "outputs": [],
   "source": [
    "#write_delta(spark, df_abmatch, \"{storage_curated}/data/out/address\".format(storage_curated = spark.conf.get('storage.curated')))"
   ]
  },
  {
   "cell_type": "code",
   "execution_count": null,
   "metadata": {},
   "outputs": [],
   "source": [
    "# DeltaTable.createOrReplace(spark) \\\n",
    "#     .tableName(\"address\") \\\n",
    "#     .location(\"{storage_curated}/data/out/address\".format(storage_curated = spark.conf.get('storage.curated'))) \\\n",
    "#     .addColumn(\"UPRN\", \"VARCHAR(12)\") \\\n",
    "#     .addColumn(\"OUTCODE\", \"STRING\") \\\n",
    "#     .addColumn(\"LOCALITY\", \"STRING\") \\\n",
    "#     .addColumn(\"ADDRESS\", \"STRING\") \\\n",
    "#     .addColumn(\"ADDRESS_ID\", \"BIGINT\", generatedAlwaysAs=F.monotonically_increasing_id()) \\\n",
    "#     .execute()"
   ]
  },
  {
   "cell_type": "code",
   "execution_count": 109,
   "metadata": {},
   "outputs": [
    {
     "name": "stdout",
     "output_type": "stream",
     "text": [
      "+------------+-------+--------+---------------------------------------------------------------------------------------------------------+----------+\n",
      "|UPRN        |OUTCODE|LOCALITY|ADDRESS                                                                                                  |ADDRESS_ID|\n",
      "+------------+-------+--------+---------------------------------------------------------------------------------------------------------+----------+\n",
      "|100041124384|2HJ    |null    |5 GROSVENOR PLACE EXETER DEVON EX1 2HJ                                                                   |1710729048|\n",
      "|100040220935|8TF    |null    |7B LEGION WAY EXETER DEVON EX2 8TF                                                                       |1710729151|\n",
      "|100040215830|3AB    |null    |5 HAMLIN GARDENS EXETER DEVON EX1 3AB                                                                    |1710729270|\n",
      "|100040240296|3DS    |null    |26 WHIPTON LANE EXETER DEVON EX1 3DS                                                                     |1710729293|\n",
      "|100041044091|5DW    |null    |ROYAL DEVON & EXETER NHS FOUNDATION TRUST ROYAL DEVON & EXETER HOSPITAL BARRACK ROAD EXETER DEVON EX2 5DW|1710729475|\n",
      "|100040209998|5HG    |null    |1 CRANBROOK ROAD EXETER DEVON EX2 5HG                                                                    |1710729537|\n",
      "|100040220505|9BZ    |null    |39 LANCELOT ROAD EXETER DEVON EX4 9BZ                                                                    |1710729715|\n",
      "|10013039531 |1QL    |null    |SOUTHERNHAY DENTAL PRACTICE 20 SOUTHERNHAY EAST EXETER DEVON EX1 1QL                                     |1710729749|\n",
      "|100041142461|4DZ    |null    |HALDON ROAD EXETER DEVON EX4 4DZ                                                                         |1710729871|\n",
      "|100040240478|5NT    |null    |56 WHITCHURCH AVENUE EXETER DEVON EX2 5NT                                                                |1710730648|\n",
      "|10023123368 |1QJ    |null    |CHICHESTER MEWS EXETER DEVON EX1 1QJ                                                                     |1710730730|\n",
      "|100040214255|9EJ    |null    |16 GARETH CRESCENT EXETER DEVON EX4 9EJ                                                                  |1710730803|\n",
      "|100041045301|6AW    |null    |NEW HORIZON 47 LONGBROOK STREET EXETER DEVON EX4 6AW                                                     |1710731274|\n",
      "|100040227085|4SJ    |null    |8 ORIOLE DRIVE EXETER DEVON EX4 4SJ                                                                      |1710731368|\n",
      "|10013047766 |3BH    |null    |16 ST. OLAVES MEWS BARTHOLOMEW STREET EAST EXETER DEVON EX4 3BH                                          |1710731753|\n",
      "|10023118932 |5FJ    |null    |FLAT 10 BLOCK C MANSION EXETER ONE COWLEY BRIDGE ROAD EXETER DEVON EX4 5FJ                               |1710732199|\n",
      "|100040214211|5BY    |null    |10 GALMPTON RISE EXETER DEVON EX4 5BY                                                                    |1710732495|\n",
      "|100040233340|9JS    |null    |8 SHELLEY CLOSE EXETER DEVON EX2 9JS                                                                     |1710732511|\n",
      "|10091470083 |1SE    |null    |34 DENMARK ROAD EXETER DEVON EX1 1SE                                                                     |1710732562|\n",
      "|100041045894|4JA    |null    |RICHMOND ROAD EXETER DEVON EX4 4JA                                                                       |1710732621|\n",
      "+------------+-------+--------+---------------------------------------------------------------------------------------------------------+----------+\n",
      "only showing top 20 rows\n",
      "\n"
     ]
    },
    {
     "name": "stderr",
     "output_type": "stream",
     "text": [
      "----------------------------------------\n",
      "Exception occurred during processing of request from ('127.0.0.1', 63209)\n",
      "Traceback (most recent call last):\n",
      "  File \"c:\\PalProjects\\addressmatching\\code\\.venv\\lib\\socketserver.py\", line 316, in _handle_request_noblock\n",
      "    self.process_request(request, client_address)\n",
      "  File \"c:\\PalProjects\\addressmatching\\code\\.venv\\lib\\socketserver.py\", line 347, in process_request\n",
      "    self.finish_request(request, client_address)\n",
      "  File \"c:\\PalProjects\\addressmatching\\code\\.venv\\lib\\socketserver.py\", line 360, in finish_request\n",
      "    self.RequestHandlerClass(request, client_address, self)\n",
      "  File \"c:\\PalProjects\\addressmatching\\code\\.venv\\lib\\socketserver.py\", line 747, in __init__\n",
      "    self.handle()\n",
      "  File \"c:\\PalProjects\\addressmatching\\code\\.venv\\lib\\site-packages\\pyspark\\accumulators.py\", line 281, in handle\n",
      "    poll(accum_updates)\n",
      "  File \"c:\\PalProjects\\addressmatching\\code\\.venv\\lib\\site-packages\\pyspark\\accumulators.py\", line 253, in poll\n",
      "    if func():\n",
      "  File \"c:\\PalProjects\\addressmatching\\code\\.venv\\lib\\site-packages\\pyspark\\accumulators.py\", line 257, in accum_updates\n",
      "    num_updates = read_int(self.rfile)\n",
      "  File \"c:\\PalProjects\\addressmatching\\code\\.venv\\lib\\site-packages\\pyspark\\serializers.py\", line 593, in read_int\n",
      "    length = stream.read(4)\n",
      "  File \"c:\\PalProjects\\addressmatching\\code\\.venv\\lib\\socket.py\", line 705, in readinto\n",
      "    return self._sock.recv_into(b)\n",
      "ConnectionResetError: [WinError 10054] An existing connection was forcibly closed by the remote host\n",
      "----------------------------------------\n"
     ]
    }
   ],
   "source": [
    "#DeltaTable.isDeltaTable(spark, \"{storage_curated}/data/out/address\".format(storage_curated = spark.conf.get('storage.curated'))) # True\n",
    "#spark.sql(\"show tables in default\").show(truncate=False)\n",
    "#spark.sql(\"describe table extended address_in\").show(truncate=False)\n",
    "#spark.sql(\"select * from address_in\").show(truncate=False)\n",
    "#spark.sql(\"select * from ADDRESS\").show(truncate=False)\n",
    "#spark.sql(\"select count(*) from address\").show()\n",
    "#spark.sql(\"USE hive_metastore\")\n",
    "#spark.sql(\"show databases\").show(truncate=False)\n",
    "#spark.sql(\"show tables\").show(truncate=False)\n",
    "#spark.sql(\"drop table address\")\n",
    "#spark.sql(\"delete from address\")\n",
    "#print(spark.sharedState.externalCatalog.unwrapped)\n",
    "#spark.catalog.listTables()\n",
    "#spark.catalog.currentDatabase()\n",
    "#spark.sparkContext.getConf().getAll()\n",
    "#df_ab_id.printSchema()\n",
    "#df_ab_id.show(truncate=False)"
   ]
  }
 ],
 "metadata": {
  "kernelspec": {
   "display_name": "Python 3",
   "language": "python",
   "name": "python3"
  },
  "language_info": {
   "codemirror_mode": {
    "name": "ipython",
    "version": 3
   },
   "file_extension": ".py",
   "mimetype": "text/x-python",
   "name": "python",
   "nbconvert_exporter": "python",
   "pygments_lexer": "ipython3",
   "version": "3.10.13"
  }
 },
 "nbformat": 4,
 "nbformat_minor": 2
}
