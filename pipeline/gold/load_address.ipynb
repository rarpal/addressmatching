{
 "cells": [
  {
   "cell_type": "code",
   "execution_count": 1,
   "metadata": {},
   "outputs": [],
   "source": [
    "from pipeline.util.platform import start_spark, start_spark_local\n",
    "from pipeline.util.storage import read_csv, read_parquet, write_parquet, write_repart_parquet, write_delta, write_deltatable\n",
    "from pyspark.sql import functions as F\n",
    "from delta import *"
   ]
  },
  {
   "cell_type": "code",
   "execution_count": 2,
   "metadata": {},
   "outputs": [
    {
     "name": "stdout",
     "output_type": "stream",
     "text": [
      "local\n"
     ]
    }
   ],
   "source": [
    "spark, loggrer, conf = start_spark(app_name='addessmatch_etl_job')"
   ]
  },
  {
   "cell_type": "code",
   "execution_count": 22,
   "metadata": {},
   "outputs": [],
   "source": [
    "df_abmatch = read_parquet(spark, \"{storage_curated}/data/in/addressbase\".format(storage_curated = spark.conf.get('storage.curated')))"
   ]
  },
  {
   "cell_type": "code",
   "execution_count": 23,
   "metadata": {},
   "outputs": [],
   "source": [
    "df_abmatch_id = df_abmatch.withColumn(\"ADDRESS_ID\", F.monotonically_increasing_id())"
   ]
  },
  {
   "cell_type": "code",
   "execution_count": 24,
   "metadata": {},
   "outputs": [],
   "source": [
    "df_abmatch_id.createOrReplaceTempView(\"address_in\")"
   ]
  },
  {
   "cell_type": "code",
   "execution_count": null,
   "metadata": {},
   "outputs": [],
   "source": [
    "spark.sql(\"select * from address_in\").show(truncate=False)"
   ]
  },
  {
   "cell_type": "code",
   "execution_count": 31,
   "metadata": {},
   "outputs": [
    {
     "data": {
      "text/plain": [
       "DataFrame[]"
      ]
     },
     "execution_count": 31,
     "metadata": {},
     "output_type": "execute_result"
    }
   ],
   "source": [
    "spark.sql(f\"INSERT INTO ADDRESS ( \\\n",
    "          UPRN,OUTCODE,LOCALITY,ADDRESS,ADDRESS_ID )  \\\n",
    "          SELECT \\\n",
    "          UPRN,OUTCODE,LOCALITY,ADDRESS,ADDRESS_ID \\\n",
    "          FROM address_in\")"
   ]
  },
  {
   "cell_type": "code",
   "execution_count": 14,
   "metadata": {},
   "outputs": [],
   "source": [
    "#write_delta(spark, df_abmatch, \"{storage_curated}/data/out/address\".format(storage_curated = spark.conf.get('storage.curated')))"
   ]
  },
  {
   "cell_type": "code",
   "execution_count": null,
   "metadata": {},
   "outputs": [],
   "source": [
    "# DeltaTable.createOrReplace(spark) \\\n",
    "#     .tableName(\"address\") \\\n",
    "#     .location(\"{storage_curated}/data/out/address\".format(storage_curated = spark.conf.get('storage.curated'))) \\\n",
    "#     .addColumn(\"UPRN\", \"VARCHAR(12)\") \\\n",
    "#     .addColumn(\"OUTCODE\", \"STRING\") \\\n",
    "#     .addColumn(\"LOCALITY\", \"STRING\") \\\n",
    "#     .addColumn(\"ADDRESS\", \"STRING\") \\\n",
    "#     .addColumn(\"ADDRESS_ID\", \"BIGINT\", generatedAlwaysAs=F.monotonically_increasing_id()) \\\n",
    "#     .execute()"
   ]
  },
  {
   "cell_type": "code",
   "execution_count": 21,
   "metadata": {},
   "outputs": [
    {
     "data": {
      "text/plain": [
       "DataFrame[]"
      ]
     },
     "execution_count": 21,
     "metadata": {},
     "output_type": "execute_result"
    }
   ],
   "source": [
    "loc = \"'{storage_curated}/data/out/address'\".format(storage_curated = spark.conf.get('storage.curated'))\n",
    "\n",
    "#spark.sql(f\"DROP TABLE ADDRESS\")\n",
    "spark.sql(f\"CREATE OR REPLACE TABLE ADDRESS ( \\\n",
    "          UPRN VARCHAR(12), \\\n",
    "          OUTCODE STRING, \\\n",
    "          LOCALITY STRING, \\\n",
    "          ADDRESS STRING, \\\n",
    "          ADDRESS_ID BIGINT )  \\\n",
    "          USING DELTA  \\\n",
    "          LOCATION {loc}\")"
   ]
  },
  {
   "cell_type": "code",
   "execution_count": 5,
   "metadata": {},
   "outputs": [
    {
     "name": "stdout",
     "output_type": "stream",
     "text": [
      "'C:/PalProjects/addressmatching/data/out/address'\n"
     ]
    }
   ],
   "source": [
    "#print(sqlstr)\n",
    "#sqlstr.replace('\\n','')\n",
    "#print(loc)"
   ]
  },
  {
   "cell_type": "code",
   "execution_count": 12,
   "metadata": {},
   "outputs": [],
   "source": [
    "#write_delta(spark, df_abmatch, \"address\")\n",
    "#write_deltatable(spark, df_abmatch, \"address\")\n",
    "#df_abmatch.createOrReplaceTempView(\"address\")"
   ]
  },
  {
   "cell_type": "code",
   "execution_count": 32,
   "metadata": {},
   "outputs": [
    {
     "name": "stdout",
     "output_type": "stream",
     "text": [
      "+------------+-------+--------+-------------------------------------------------+-----------+\n",
      "|UPRN        |OUTCODE|LOCALITY|ADDRESS                                          |ADDRESS_ID |\n",
      "+------------+-------+--------+-------------------------------------------------+-----------+\n",
      "|100040211947|6LN    |null    |35A ELMSIDE EXETER DEVON EX4 6LN                 |17179869184|\n",
      "|100040230517|4EU    |null    |38 RADFORD ROAD EXETER DEVON EX2 4EU             |17179869185|\n",
      "|100040221792|6AP    |null    |80 LONGBROOK STREET EXETER DEVON EX4 6AP         |17179869186|\n",
      "|100040234411|2NE    |null    |14 ST ALBANS CLOSE EXETER DEVON EX4 2NE          |17179869187|\n",
      "|100040220123|2DG    |null    |44 KNOWLE DRIVE EXETER DEVON EX4 2DG             |17179869188|\n",
      "|100040201634|4RN    |null    |15 BAGSHOT AVENUE EXETER DEVON EX2 4RN           |17179869189|\n",
      "|100040202140|5ED    |null    |27 BARRACK ROAD EXETER DEVON EX2 5ED             |17179869190|\n",
      "|100040233943|1LR    |null    |44 SOMERSET AVENUE EXETER DEVON EX4 1LR          |17179869191|\n",
      "|100041045886|4HR    |null    |QUEENS TERRACE EXETER DEVON EX4 4HR              |17179869192|\n",
      "|100040207311|6DW    |null    |148 CHESTNUT AVENUE EXETER DEVON EX2 6DW         |17179869193|\n",
      "|100040203366|3EX    |null    |57 BIRCHY BARTON HILL EXETER DEVON EX1 3EX       |17179869194|\n",
      "|100040220268|2PU    |null    |25 LADYSMITH ROAD EXETER DEVON EX1 2PU           |17179869195|\n",
      "|100040205293|1JH    |null    |22 BUDDLE LANE EXETER DEVON EX4 1JH              |17179869196|\n",
      "|10013049158 |4PL    |null    |ST GERMANS ROAD EXETER DEVON EX4 4PL             |17179869197|\n",
      "|100040227334|2UF    |null    |33 PAMELA ROAD EXETER DEVON EX1 2UF              |17179869198|\n",
      "|10013043182 |7JZ    |null    |FOOTPATH TO 27 UPLANDS DRIVE EXETER DEVON EX4 7JZ|17179869199|\n",
      "|100041225406|8LH    |null    |MARSH BARTON ROAD EXETER DEVON EX2 8LH           |17179869200|\n",
      "|100040229960|7AP    |null    |47 PRIORY ROAD EXETER DEVON EX4 7AP              |17179869201|\n",
      "|10013036074 |1TL    |null    |BARING CRESCENT EXETER DEVON EX1 1TL             |17179869202|\n",
      "|100041132056|5EE    |null    |8 FRANCIS COURT BARRACK ROAD EXETER DEVON EX2 5EE|17179869203|\n",
      "+------------+-------+--------+-------------------------------------------------+-----------+\n",
      "only showing top 20 rows\n",
      "\n"
     ]
    }
   ],
   "source": [
    "#DeltaTable.isDeltaTable(spark, \"{storage_curated}/data/out/address\".format(storage_curated = spark.conf.get('storage.curated'))) # True\n",
    "#spark.sql(\"show tables in default\").show(truncate=False)\n",
    "#spark.sql(\"describe table extended address_in\").show(truncate=False)\n",
    "spark.sql(\"select * from ADDRESS\").show(truncate=False)\n",
    "#spark.sql(\"USE hive_metastore\")\n",
    "#spark.sql(\"show databases\").show(truncate=False)\n",
    "#spark.sql(\"show tables\").show(truncate=False)\n",
    "#spark.sql(\"drop table address\")\n",
    "#print(spark.sharedState.externalCatalog.unwrapped)\n",
    "#spark.catalog.listTables()\n",
    "#spark.catalog.currentDatabase()\n",
    "#spark.sparkContext.getConf().getAll()\n",
    "#df_abmatch_id.printSchema()\n",
    "#df_abmatch_id2.show(truncate=False)\n",
    "\n"
   ]
  }
 ],
 "metadata": {
  "kernelspec": {
   "display_name": "Python 3",
   "language": "python",
   "name": "python3"
  },
  "language_info": {
   "codemirror_mode": {
    "name": "ipython",
    "version": 3
   },
   "file_extension": ".py",
   "mimetype": "text/x-python",
   "name": "python",
   "nbconvert_exporter": "python",
   "pygments_lexer": "ipython3",
   "version": "3.10.13"
  }
 },
 "nbformat": 4,
 "nbformat_minor": 2
}
