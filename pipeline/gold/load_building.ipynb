{
 "cells": [
  {
   "cell_type": "code",
   "execution_count": 7,
   "metadata": {},
   "outputs": [],
   "source": [
    "from pipeline.util.platform import start_spark, start_spark_local\n",
    "from pipeline.util.storage import read_csv, read_parquet, write_parquet, write_repart_parquet, write_delta, write_deltatable\n",
    "from pyspark.sql import functions as F\n",
    "from pyspark.sql import types as T"
   ]
  },
  {
   "cell_type": "code",
   "execution_count": 8,
   "metadata": {},
   "outputs": [
    {
     "name": "stdout",
     "output_type": "stream",
     "text": [
      "local\n"
     ]
    }
   ],
   "source": [
    "spark, loggrer, conf = start_spark(app_name='addessmatch_etl_job')"
   ]
  },
  {
   "cell_type": "code",
   "execution_count": 29,
   "metadata": {},
   "outputs": [],
   "source": [
    "df_bld = read_parquet(spark, \"{storage_curated}/data/in/addressmatchres\".format(storage_curated = spark.conf.get('storage.curated')))"
   ]
  },
  {
   "cell_type": "code",
   "execution_count": 30,
   "metadata": {},
   "outputs": [],
   "source": [
    "df_bld_id = df_bld.withColumn(\"BUILDING_ID\", F.monotonically_increasing_id() + F.unix_timestamp(F.current_timestamp()))"
   ]
  },
  {
   "cell_type": "code",
   "execution_count": 31,
   "metadata": {},
   "outputs": [],
   "source": [
    "df_bld_id.createOrReplaceTempView(\"building_in\")"
   ]
  },
  {
   "cell_type": "code",
   "execution_count": 21,
   "metadata": {},
   "outputs": [
    {
     "data": {
      "text/plain": [
       "DataFrame[]"
      ]
     },
     "execution_count": 21,
     "metadata": {},
     "output_type": "execute_result"
    }
   ],
   "source": [
    "loc = \"'{storage_curated}/data/out/building'\".format(storage_curated = spark.conf.get('storage.curated'))\n",
    "\n",
    "#spark.sql(f\"DROP TABLE IF EXISTS BUILDING\")\n",
    "spark.sql(f\"CREATE OR REPLACE TABLE BUILDING ( \\\n",
    "          ID INT, \\\n",
    "          BUILDINGADDRESS STRING, \\\n",
    "          UPRN VARCHAR(12), \\\n",
    "          BUILDING_ID BIGINT ) \\\n",
    "          USING DELTA  \\\n",
    "          LOCATION {loc}\")"
   ]
  },
  {
   "cell_type": "code",
   "execution_count": 33,
   "metadata": {},
   "outputs": [
    {
     "data": {
      "text/plain": [
       "DataFrame[num_affected_rows: bigint, num_updated_rows: bigint, num_deleted_rows: bigint, num_inserted_rows: bigint]"
      ]
     },
     "execution_count": 33,
     "metadata": {},
     "output_type": "execute_result"
    }
   ],
   "source": [
    "spark.sql(f\"MERGE INTO BUILDING \\\n",
    "          USING building_in \\\n",
    "          ON BUILDING.ID = building_in.id \\\n",
    "          WHEN MATCHED THEN \\\n",
    "            UPDATE SET \\\n",
    "              BUILDINGADDRESS = building_in.buildingaddress, \\\n",
    "              UPRN = building_in.UPRN \\\n",
    "          WHEN NOT MATCHED THEN \\\n",
    "            INSERT ( \\\n",
    "              ID, BUILDINGADDRESS, UPRN, BUILDING_ID \\\n",
    "            ) VALUES ( \\\n",
    "              building_in.id, building_in.buildingaddress, building_in.UPRN, building_in.BUILDING_ID \\\n",
    "            )\")"
   ]
  },
  {
   "cell_type": "code",
   "execution_count": 38,
   "metadata": {},
   "outputs": [
    {
     "name": "stdout",
     "output_type": "stream",
     "text": [
      "+---+--------------------------------------------------------------------------+------------+-----------+------------+-------+--------+---------------------------------------------------------------+-----------+\n",
      "|ID |BUILDINGADDRESS                                                           |UPRN        |BUILDING_ID|UPRN        |OUTCODE|LOCALITY|ADDRESS                                                        |ADDRESS_ID |\n",
      "+---+--------------------------------------------------------------------------+------------+-----------+------------+-------+--------+---------------------------------------------------------------+-----------+\n",
      "|9  |36 Southernhay E, Exeter EX1 1NX                                          |100041046158|1710785012 |100041046158|1NX    |null    |36 SOUTHERNHAY EAST EXETER DEVON EX1 1NX                       |1710731536 |\n",
      "|4  |FLAT 52D MORTIMER HOUSE GRENDON ROAD EX1 2NL                              |100040215247|1710785008 |100040215247|2NL    |null    |FLAT 52D MORTIMER HOUSE GRENDON ROAD EXETER DEVON EX1 2NL      |10300663509|\n",
      "|1  |The South Lawn Medical Practice, S Lawn Terrace, Heavitree, Exeter EX1 2RX|100041046145|1710785007 |100041046145|2RX    |null    |HEAVITREE HEALTH CENTRE SOUTH LAWN TERRACE EXETER DEVON EX1 2RX|18890606528|\n",
      "|7  |Market St, Exeter EX1 1BW                                                 |100041123913|1710785011 |100041123913|1BW    |null    |MARKET STREET EXETER DEVON EX1 1BW                             |27480538041|\n",
      "|5  |Unit 3 The Exebridge Centre Exeter EX4 1AH                                |10013043126 |1710785009 |10013043126 |1AH    |null    |ACCESS TO THE EXEBRIDGE CENTRE EXETER DEVON EX4 1AH            |44660403685|\n",
      "|6  |30, Guildhall Shopping Centre, Exeter EX4 3HJ                             |10013043352 |1710785010 |10013043352 |3TT    |null    |CAR PARK FOR GUILDHALL SHOPPING CENTRE EXETER DEVON EX4 3TT    |10300665011|\n",
      "|10 |6 Isleworth Rd, Exeter EX4 1QU                                            |100040218973|1710785013 |100040218973|1QU    |null    |16 ISLEWORTH ROAD EXETER DEVON EX4 1QU                         |27480535852|\n",
      "+---+--------------------------------------------------------------------------+------------+-----------+------------+-------+--------+---------------------------------------------------------------+-----------+\n",
      "\n"
     ]
    }
   ],
   "source": [
    "#df_admatchres.printSchema()\n",
    "#spark.sql(\"describe table building_in\").show()\n",
    "#spark.sql(\"select * from BUILDING\").show()\n",
    "#spark.sql(\"select * from BUILDING a join ADDRESS b on a.UPRN=b.UPRN\").show(truncate=False)\n",
    "#spark.sql(\"show tables\").show()\n",
    "#spark.sql(\"drop table addressmatchres\")\n"
   ]
  }
 ],
 "metadata": {
  "kernelspec": {
   "display_name": "Python 3",
   "language": "python",
   "name": "python3"
  },
  "language_info": {
   "codemirror_mode": {
    "name": "ipython",
    "version": 3
   },
   "file_extension": ".py",
   "mimetype": "text/x-python",
   "name": "python",
   "nbconvert_exporter": "python",
   "pygments_lexer": "ipython3",
   "version": "3.10.13"
  }
 },
 "nbformat": 4,
 "nbformat_minor": 2
}
