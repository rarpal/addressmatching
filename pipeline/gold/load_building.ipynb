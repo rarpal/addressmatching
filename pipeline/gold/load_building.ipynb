{
 "cells": [
  {
   "cell_type": "code",
   "execution_count": 1,
   "metadata": {},
   "outputs": [],
   "source": [
    "from pipeline.util.platform import start_spark, start_spark_local\n",
    "from pipeline.util.storage import read_csv, read_parquet, write_parquet, write_repart_parquet, write_delta, write_deltatable\n",
    "from pyspark.sql import functions as F\n",
    "from pyspark.sql import types as T"
   ]
  },
  {
   "cell_type": "code",
   "execution_count": 2,
   "metadata": {},
   "outputs": [
    {
     "name": "stdout",
     "output_type": "stream",
     "text": [
      "local\n"
     ]
    }
   ],
   "source": [
    "spark, loggrer, conf = start_spark(app_name='addessmatch_etl_job')"
   ]
  },
  {
   "cell_type": "code",
   "execution_count": 3,
   "metadata": {},
   "outputs": [],
   "source": [
    "df_bld = read_parquet(spark, \"{storage_curated}/data/in/addressmatchres\".format(storage_curated = spark.conf.get('storage.curated')))"
   ]
  },
  {
   "cell_type": "code",
   "execution_count": 5,
   "metadata": {},
   "outputs": [],
   "source": [
    "df_bld_id = df_bld.withColumn(\"BUILDING_ID\", F.monotonically_increasing_id() + F.unix_timestamp(F.current_timestamp()))"
   ]
  },
  {
   "cell_type": "code",
   "execution_count": 6,
   "metadata": {},
   "outputs": [],
   "source": [
    "df_bld_id.createOrReplaceTempView(\"building_in\")"
   ]
  },
  {
   "cell_type": "code",
   "execution_count": 42,
   "metadata": {},
   "outputs": [
    {
     "data": {
      "text/plain": [
       "DataFrame[]"
      ]
     },
     "execution_count": 42,
     "metadata": {},
     "output_type": "execute_result"
    }
   ],
   "source": [
    "loc = \"'{storage_curated}/data/out/building'\".format(storage_curated = spark.conf.get('storage.curated'))\n",
    "\n",
    "#spark.sql(f\"DROP TABLE IF EXISTS BUILDING\")\n",
    "spark.sql(f\"CREATE TABLE IF NOT EXISTS BUILDING ( \\\n",
    "          ID INT, \\\n",
    "          BUILDINGADDRESS STRING, \\\n",
    "          BUILDING_ID BIGINT, \\\n",
    "          ADDRESS_ID BIGINT ) \\\n",
    "          USING DELTA  \\\n",
    "          LOCATION {loc}\")"
   ]
  },
  {
   "cell_type": "code",
   "execution_count": 47,
   "metadata": {},
   "outputs": [
    {
     "data": {
      "text/plain": [
       "DataFrame[num_affected_rows: bigint, num_updated_rows: bigint, num_deleted_rows: bigint, num_inserted_rows: bigint]"
      ]
     },
     "execution_count": 47,
     "metadata": {},
     "output_type": "execute_result"
    }
   ],
   "source": [
    "spark.sql(f\"MERGE INTO BUILDING \\\n",
    "          USING ( \\\n",
    "            SELECT \\\n",
    "              b.id, \\\n",
    "              b.buildingaddress, \\\n",
    "              b.BUILDING_ID, \\\n",
    "              a.ADDRESS_ID \\\n",
    "            FROM building_in b \\\n",
    "            JOIN ADDRESS a ON b.UPRN = a.UPRN \\\n",
    "          ) AS building_in \\\n",
    "          ON BUILDING.ID = building_in.id \\\n",
    "          WHEN MATCHED THEN \\\n",
    "            UPDATE SET \\\n",
    "              BUILDINGADDRESS = building_in.buildingaddress, \\\n",
    "              ADDRESS_ID = building_in.ADDRESS_ID \\\n",
    "          WHEN NOT MATCHED THEN \\\n",
    "            INSERT ( \\\n",
    "              ID, BUILDINGADDRESS, BUILDING_ID, ADDRESS_ID \\\n",
    "            ) VALUES ( \\\n",
    "              building_in.id, building_in.buildingaddress, building_in.BUILDING_ID, building_in.ADDRESS_ID \\\n",
    "            )\")"
   ]
  },
  {
   "cell_type": "code",
   "execution_count": 50,
   "metadata": {},
   "outputs": [
    {
     "name": "stdout",
     "output_type": "stream",
     "text": [
      "+---+--------------------------------------------------------------------------+-----------+-----------+------------+-------+--------+---------------------------------------------------------------+-----------+\n",
      "|ID |BUILDINGADDRESS                                                           |BUILDING_ID|ADDRESS_ID |UPRN        |OUTCODE|LOCALITY|ADDRESS                                                        |ADDRESS_ID |\n",
      "+---+--------------------------------------------------------------------------+-----------+-----------+------------+-------+--------+---------------------------------------------------------------+-----------+\n",
      "|1  |The South Lawn Medical Practice, S Lawn Terrace, Heavitree, Exeter EX1 2RX|1710870608 |18890606528|100041046145|2RX    |null    |HEAVITREE HEALTH CENTRE SOUTH LAWN TERRACE EXETER DEVON EX1 2RX|18890606528|\n",
      "|4  |FLAT 52D MORTIMER HOUSE GRENDON ROAD EX1 2NL                              |1710870609 |10300663509|100040215247|2NL    |null    |FLAT 52D MORTIMER HOUSE GRENDON ROAD EXETER DEVON EX1 2NL      |10300663509|\n",
      "|5  |Unit 3 The Exebridge Centre Exeter EX4 1AH                                |1710870610 |44660403685|10013043126 |1AH    |null    |ACCESS TO THE EXEBRIDGE CENTRE EXETER DEVON EX4 1AH            |44660403685|\n",
      "|6  |30, Guildhall Shopping Centre, Exeter EX4 3HJ                             |1710870611 |10300665011|10013043352 |3TT    |null    |CAR PARK FOR GUILDHALL SHOPPING CENTRE EXETER DEVON EX4 3TT    |10300665011|\n",
      "|7  |Market St, Exeter EX1 1BW                                                 |1710870612 |27480538041|100041123913|1BW    |null    |MARKET STREET EXETER DEVON EX1 1BW                             |27480538041|\n",
      "|9  |36 Southernhay E, Exeter EX1 1NX                                          |1710870613 |1710731536 |100041046158|1NX    |null    |36 SOUTHERNHAY EAST EXETER DEVON EX1 1NX                       |1710731536 |\n",
      "|10 |6 Isleworth Rd, Exeter EX4 1QU                                            |1710870614 |36070473413|100040218983|1QU    |null    |26 ISLEWORTH ROAD EXETER DEVON EX4 1QU                         |36070473413|\n",
      "|11 |ABBEVILLE CLOSE,EX2 4SJ                                                   |1710870615 |44660407982|10024662321 |4SJ    |null    |ABBEVILLE CLOSE EXETER DEVON EX2 4SJ                           |44660407982|\n",
      "|13 |ALBERT STREET,EX1 2BH                                                     |1710870616 |27480540122|100040200120|2BH    |null    |1 ALBERT STREET EXETER DEVON EX1 2BH                           |27480540122|\n",
      "|16 |ALFORD CRESCENT,EX1 3LW                                                   |1710870617 |1710735156 |10023116527 |3LW    |null    |ALFORD CRESCENT EXETER DEVON EX1 3LW                           |1710735156 |\n",
      "|20 |ANNE CLOSE,EX4 7DL                                                        |1710870618 |36070469155|10013043057 |7DL    |null    |ANNE CLOSE EXETER DEVON EX4 7DL                                |36070469155|\n",
      "|21 |ASHLEIGH CLOSE,EX4 2BU                                                    |1710870619 |27480540671|100040201286|2BU    |null    |4 ASHLEIGH CLOSE EXETER DEVON EX4 2BU                          |27480540671|\n",
      "|23 |AVALON CLOSE,EX4 9EF                                                      |1710870620 |18890598064|100040201547|9EF    |null    |4 AVALON CLOSE EXETER DEVON EX4 9EF                            |18890598064|\n",
      "|24 |BADON CLOSE,EX4 9EG                                                       |1710870621 |44660404843|100040201602|9EG    |null    |4 BADON CLOSE EXETER DEVON EX4 9EG                             |44660404843|\n",
      "|25 |BARTHOLOMEW STREET EAST,EX4 3BH                                           |1710870622 |27480539965|10013040306 |3BH    |null    |BARTHOLOMEW STREET EAST EXETER DEVON EX4 3BH                   |27480539965|\n",
      "|26 |BARTHOLOMEW ST WEST,EX4 3AL                                               |1710870623 |18890601055|100041225086|3AL    |null    |BARTHOLOMEW STREET WEST EXETER DEVON EX4 3AL                   |18890601055|\n",
      "|27 |BEACON LANE,EX4 8BD                                                       |1710870624 |18890604144|100040202604|8BD    |null    |1 BEACON LANE EXETER DEVON EX4 8BD                             |18890604144|\n",
      "|28 |BEAUFORT ROAD,EX2 9AB                                                     |1710870625 |10300665020|100041133472|9AB    |null    |BEAUFORT ROAD EXETER DEVON EX2 9AB                             |10300665020|\n",
      "|30 |BENNETT SQUARE,EX4 8AZ                                                    |1710870626 |18890602897|100040202984|8AZ    |null    |4 BENNETT SQUARE EXETER DEVON EX4 8AZ                          |18890602897|\n",
      "|31 |BINFORD CLOSE,EX1 3JZ                                                     |1710870627 |10300668794|10023116114 |3JZ    |null    |BINFORD CLOSE EXETER DEVON EX1 3JZ                             |10300668794|\n",
      "+---+--------------------------------------------------------------------------+-----------+-----------+------------+-------+--------+---------------------------------------------------------------+-----------+\n",
      "only showing top 20 rows\n",
      "\n"
     ]
    }
   ],
   "source": [
    "#df_admatchres.printSchema()\n",
    "#spark.sql(\"describe table building_in\").show()\n",
    "#spark.sql(\"select * from BUILDING order by ID\").show()\n",
    "#spark.sql(\"delete from BUILDING where ID > 10\")\n",
    "#spark.sql(\"select * from BUILDING a join ADDRESS b on a.ADDRESS_ID=b.ADDRESS_ID order by a.ID\").show(truncate=False)\n",
    "#spark.sql(\"show tables\").show()\n",
    "#spark.sql(\"drop table addressmatchres\")\n",
    "#spark.sql(f\"describe history {loc}\").show(truncate=False)\n",
    "#spark.sql(\"select * from BUILDING version as of 5\").show(truncate=False)"
   ]
  }
 ],
 "metadata": {
  "kernelspec": {
   "display_name": "Python 3",
   "language": "python",
   "name": "python3"
  },
  "language_info": {
   "codemirror_mode": {
    "name": "ipython",
    "version": 3
   },
   "file_extension": ".py",
   "mimetype": "text/x-python",
   "name": "python",
   "nbconvert_exporter": "python",
   "pygments_lexer": "ipython3",
   "version": "3.10.13"
  }
 },
 "nbformat": 4,
 "nbformat_minor": 2
}
