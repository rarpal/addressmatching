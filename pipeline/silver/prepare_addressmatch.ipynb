{
 "cells": [
  {
   "cell_type": "code",
   "execution_count": 1,
   "metadata": {},
   "outputs": [],
   "source": [
    "from pipeline.util.platform import start_spark, start_spark_local\n",
    "from pipeline.util.storage import read_csv, read_parquet, write_parquet, write_repart_parquet\n",
    "import transform\n",
    "from pyspark.sql import functions as F"
   ]
  },
  {
   "cell_type": "code",
   "execution_count": 2,
   "metadata": {},
   "outputs": [
    {
     "name": "stdout",
     "output_type": "stream",
     "text": [
      "local\n"
     ]
    }
   ],
   "source": [
    "spark, loggrer, conf = start_spark(app_name='addessmatch_etl_job')"
   ]
  },
  {
   "cell_type": "code",
   "execution_count": 3,
   "metadata": {},
   "outputs": [],
   "source": [
    "#df_ab = transform.read_csv(spark, '../../../data/ab-plus_SX9090_withhead.csv')\n",
    "df_ab = read_csv(spark, \"{storage_landed}/data/ab-plus_SX9090_withhead.csv\".format(storage_landed = spark.conf.get('storage.landed')))"
   ]
  },
  {
   "cell_type": "code",
   "execution_count": 4,
   "metadata": {},
   "outputs": [],
   "source": [
    "#df_bldadr = transform.read_csv(spark, '../../../data/addressbatch1.csv')\n",
    "df_bldadr = read_csv(spark, \"{storage_landed}/data/addressbatch1.csv\".format(storage_landed = spark.conf.get('storage.landed')))"
   ]
  },
  {
   "cell_type": "code",
   "execution_count": 5,
   "metadata": {},
   "outputs": [],
   "source": [
    "df_abmatch = transform.prep_abmatchdframe(spark, df_ab)"
   ]
  },
  {
   "cell_type": "code",
   "execution_count": 6,
   "metadata": {},
   "outputs": [],
   "source": [
    "#transform.write__repart_parquet(spark, df_abmatch, 6, '../../../data/in/addressbase')\n",
    "write_repart_parquet(spark, df_abmatch, 6, \"{storage_curated}/data/in/addressbase\".format(storage_curated = spark.conf.get('storage.curated')))"
   ]
  },
  {
   "cell_type": "code",
   "execution_count": 7,
   "metadata": {},
   "outputs": [],
   "source": [
    "#transform.write_parquet(spark, df_bldadr, '../../../data/in/buildingaddress')\n",
    "write_parquet(spark, df_bldadr, \"{storage_curated}/data/in/buildingaddress\".format(storage_curated = spark.conf.get('storage.curated')))"
   ]
  },
  {
   "cell_type": "code",
   "execution_count": 13,
   "metadata": {},
   "outputs": [
    {
     "name": "stdout",
     "output_type": "stream",
     "text": [
      "+------------+-------+-----------+-----+-------------------+------+-----------+------------+------------+----------+----------+---+--------------------+-------+-------------------+-------------------+-------------------+----------------------+------------------------------------------------------------+---------------+----------+-----------------+-------------+---------------+----------------+----------------+--------------+--------------+--------+---------------------+----------------+----------------+--------------+--------------+--------------------------------------------------------------+---------------------+--------+--------------------+---------+-----+-------------+--------------------+-----------------------+--------------------+------------------------+--------------------+--------------------+-------------+--------------+------------------+------------------------------+----------------------+------------+----------------------------+------------------+-------------------------+------------------+--------+------------------------+-------------------------------+---------+-------------------+---------+---------------+--------+----------------+-------------+---------------------+------------------+-------------+---------+-----------+-------------------+---------------+-------------------+-----------------+------------+\n",
      "|UPRN        |UDPRN  |CHANGE_TYPE|STATE|STATE_DATE         |CLASS |PARENT_UPRN|X_COORDINATE|Y_COORDINATE|LATITUDE  |LONGITUDE |RPC|LOCAL_CUSTODIAN_CODE|COUNTRY|LA_START_DATE      |LAST_UPDATE_DATE   |ENTRY_DATE         |RM_ORGANISATION_NAME  |LA_ORGANISATION                                             |DEPARTMENT_NAME|LEGAL_NAME|SUB_BUILDING_NAME|BUILDING_NAME|BUILDING_NUMBER|SAO_START_NUMBER|SAO_START_SUFFIX|SAO_END_NUMBER|SAO_END_SUFFIX|SAO_TEXT|ALT_LANGUAGE_SAO_TEXT|PAO_START_NUMBER|PAO_START_SUFFIX|PAO_END_NUMBER|PAO_END_SUFFIX|PAO_TEXT                                                      |ALT_LANGUAGE_PAO_TEXT|USRN    |USRN_MATCH_INDICATOR|AREA_NAME|LEVEL|OFFICIAL_FLAG|OS_ADDRESS_TOID     |OS_ADDRESS_TOID_VERSION|OS_ROADLINK_TOID    |OS_ROADLINK_TOID_VERSION|OS_TOPO_TOID        |OS_TOPO_TOID_VERSION|VOA_CT_RECORD|VOA_NDR_RECORD|STREET_DESCRIPTION|ALT_LANGUAGE_STREET_DESCRIPTOR|DEPENDENT_THOROUGHFARE|THOROUGHFARE|WELSH_DEPENDENT_THOROUGHFARE|WELSH_THOROUGHFARE|DOUBLE_DEPENDENT_LOCALITY|DEPENDENT_LOCALITY|LOCALITY|WELSH_DEPENDENT_LOCALITY|WELSH_DOUBLE_DEPENDENT_LOCALITY|TOWN_NAME|ADMINISTRATIVE_AREA|POST_TOWN|WELSH_POST_TOWN|POSTCODE|POSTCODE_LOCATOR|POSTCODE_TYPE|DELIVERY_POINT_SUFFIX|ADDRESSBASE_POSTAL|PO_BOX_NUMBER|WARD_CODE|PARISH_CODE|RM_START_DATE      |MULTI_OCC_COUNT|VOA_NDR_P_DESC_CODE|VOA_NDR_SCAT_CODE|ALT_LANGUAGE|\n",
      "+------------+-------+-----------+-----+-------------------+------+-----------+------------+------------+----------+----------+---+--------------------+-------+-------------------+-------------------+-------------------+----------------------+------------------------------------------------------------+---------------+----------+-----------------+-------------+---------------+----------------+----------------+--------------+--------------+--------+---------------------+----------------+----------------+--------------+--------------+--------------------------------------------------------------+---------------------+--------+--------------------+---------+-----+-------------+--------------------+-----------------------+--------------------+------------------------+--------------------+--------------------+-------------+--------------+------------------+------------------------------+----------------------+------------+----------------------------+------------------+-------------------------+------------------+--------+------------------------+-------------------------------+---------+-------------------+---------+---------------+--------+----------------+-------------+---------------------+------------------+-------------+---------+-----------+-------------------+---------------+-------------------+-----------------+------------+\n",
      "|10013038958 |8790438|I          |2    |2014-05-28 00:00:00|CR08  |null       |294852.0    |93599.0     |50.7324486|-3.4913003|1  |1110                |E      |2007-10-24 00:00:00|2015-08-23 00:00:00|2005-07-07 00:00:00|null                  |REFRESH HAIR AND BEAUTY                                     |null           |null      |null             |null         |356            |null            |null            |null          |null          |null    |null                 |356             |null            |null          |null          |null                                                          |null                 |14201114|1                   |null     |null |null         |osgb1000002274408043|21                     |osgb4000000025306356|5                       |osgb1000012365996   |3                   |null         |null          |PINHOE ROAD       |null                          |null                  |PINHOE ROAD |null                        |null              |null                     |null              |null    |null                    |null                           |EXETER   |DEVON              |EXETER   |null           |EX4 8AJ |EX4 8AJ         |S            |1J                   |D                 |null         |E05003499|null       |2012-03-19 00:00:00|0              |null               |null             |null        |\n",
      "|10013038956 |8790441|I          |2    |2012-08-21 00:00:00|CR02PO|null       |294839.0    |93596.0     |50.7324192|-3.4914836|1  |1110                |E      |2007-10-24 00:00:00|2015-08-23 00:00:00|2005-07-07 00:00:00|POST OFFICE           |WHIPTON VILLAGE POST OFFICE PINHOE ROAD/SUMMER LANE JUNCTION|null           |null      |null             |null         |352            |null            |null            |null          |null          |null    |null                 |352             |null            |null          |null          |WHIPTON POST OFFICE                                           |null                 |14201114|1                   |null     |null |null         |osgb1000002274408039|9                      |osgb4000000025336710|7                       |osgb1000012365994   |4                   |null         |null          |PINHOE ROAD       |null                          |null                  |PINHOE ROAD |null                        |null              |null                     |null              |null    |null                    |null                           |EXETER   |DEVON              |EXETER   |null           |EX4 8AJ |EX4 8AJ         |S            |1D                   |D                 |null         |E05003499|null       |2012-03-19 00:00:00|0              |null               |null             |null        |\n",
      "|10013042013 |8790443|I          |2    |2014-06-04 00:00:00|CR08  |null       |294872.0    |93603.0     |50.7324882|-3.4910181|1  |1110                |E      |2007-10-24 00:00:00|2015-08-23 00:00:00|2005-07-07 00:00:00|WARRENS BAKERY        |WARRENS BAKERY                                              |null           |null      |null             |358A         |null           |null            |null            |null          |null          |null    |null                 |358             |A               |null          |null          |null                                                          |null                 |14201114|1                   |null     |null |null         |osgb1000002274408049|11                     |osgb4000000025306356|5                       |osgb1000012365999   |3                   |null         |null          |PINHOE ROAD       |null                          |null                  |PINHOE ROAD |null                        |null              |null                     |null              |null    |null                    |null                           |EXETER   |DEVON              |EXETER   |null           |EX4 8AJ |EX4 8AJ         |S            |1G                   |D                 |null         |E05003499|null       |2012-03-19 00:00:00|0              |null               |null             |null        |\n",
      "|10013038957 |8790439|I          |2    |2012-08-21 00:00:00|CR08  |null       |294845.0    |93598.0     |50.7324383|-3.4913992|1  |1110                |E      |2007-10-24 00:00:00|2015-08-23 00:00:00|2005-07-07 00:00:00|COSTCUTTER SUPERMARKET|COSTCUTTER SUPERMARKET                                      |null           |null      |null             |null         |354            |null            |null            |null          |null          |null    |null                 |354             |null            |null          |null          |null                                                          |null                 |14201114|1                   |null     |null |null         |osgb1000002274408041|9                      |osgb4000000025336710|7                       |osgb1000012365995   |3                   |null         |2127634000    |PINHOE ROAD       |null                          |null                  |PINHOE ROAD |null                        |null              |null                     |null              |null    |null                    |null                           |EXETER   |DEVON              |EXETER   |null           |EX4 8AJ |EX4 8AJ         |S            |1B                   |D                 |null         |E05003499|null       |2012-03-19 00:00:00|0              |CS                 |249              |null        |\n",
      "|100041045730|8790442|I          |2    |2014-05-28 00:00:00|CR08  |null       |294866.0    |93601.0     |50.7324691|-3.4911025|1  |1110                |E      |2007-10-24 00:00:00|2015-08-23 00:00:00|2001-04-04 00:00:00|SUE RYDER CARE        |SUE RYDER CARE                                              |null           |null      |null             |null         |358            |null            |null            |null          |null          |null    |null                 |358             |null            |null          |null          |null                                                          |null                 |14201114|1                   |null     |null |null         |osgb1000002274408047|12                     |osgb4000000025306356|5                       |osgb1000012365998   |3                   |null         |28067182      |PINHOE ROAD       |null                          |null                  |PINHOE ROAD |null                        |null              |null                     |null              |null    |null                    |null                           |EXETER   |DEVON              |EXETER   |null           |EX4 8AJ |EX4 8AJ         |S            |1E                   |D                 |null         |E05003499|null       |2012-03-19 00:00:00|0              |CS                 |249              |null        |\n",
      "|10013042010 |8790440|I          |2    |2015-02-19 00:00:00|CR08  |null       |294859.0    |93600.0     |50.7324588|-3.4912014|1  |1110                |E      |2007-10-24 00:00:00|2015-08-23 00:00:00|2005-07-07 00:00:00|GORDONS FRUIT         |GORDONS FRUIT                                               |null           |null      |null             |356A         |null           |null            |null            |null          |null          |null    |null                 |356             |A               |null          |null          |null                                                          |null                 |14201114|1                   |null     |null |Y            |osgb1000002274408045|11                     |osgb4000000025306356|5                       |osgb1000012365997   |3                   |null         |null          |PINHOE ROAD       |null                          |null                  |PINHOE ROAD |null                        |null              |null                     |null              |null    |null                    |null                           |EXETER   |DEVON              |EXETER   |null           |EX4 8AJ |EX4 8AJ         |S            |1F                   |D                 |null         |E05003499|null       |2012-03-19 00:00:00|0              |null               |null             |null        |\n",
      "|10015275607 |null   |I          |null |null               |OR01  |null       |294853.8    |93584.4     |50.7323176|-3.4912706|1  |7655                |E      |2011-09-16 00:00:00|2015-08-23 00:00:00|2011-09-01 00:00:00|null                  |null                                                        |null           |null      |null             |null         |null           |null            |null            |null          |null          |null    |null                 |null            |null            |null          |null          |POST BOX 7M FROM 33 WHIPTON VILLAGE ROAD. 12M FROM PINHOE ROAD|null                 |14201114|2                   |null     |null |N            |osgb5000000000740759|20                     |osgb4000000025321706|4                       |osgb1000002062574061|5                   |null         |null          |PINHOE ROAD       |null                          |null                  |null        |null                        |null              |null                     |null              |null    |null                    |null                           |EXETER   |DEVON              |null     |null           |null    |EX4 8AJ         |null         |null                 |N                 |null         |E05003499|null       |null               |0              |null               |null             |null        |\n",
      "+------------+-------+-----------+-----+-------------------+------+-----------+------------+------------+----------+----------+---+--------------------+-------+-------------------+-------------------+-------------------+----------------------+------------------------------------------------------------+---------------+----------+-----------------+-------------+---------------+----------------+----------------+--------------+--------------+--------+---------------------+----------------+----------------+--------------+--------------+--------------------------------------------------------------+---------------------+--------+--------------------+---------+-----+-------------+--------------------+-----------------------+--------------------+------------------------+--------------------+--------------------+-------------+--------------+------------------+------------------------------+----------------------+------------+----------------------------+------------------+-------------------------+------------------+--------+------------------------+-------------------------------+---------+-------------------+---------+---------------+--------+----------------+-------------+---------------------+------------------+-------------+---------+-----------+-------------------+---------------+-------------------+-----------------+------------+\n",
      "\n"
     ]
    }
   ],
   "source": [
    "#df_ab.filter(F.col(\"POSTCODE_LOCATOR\")==\"EX4 8AJ\").show(truncate=False)\n",
    "#df_abmatch.filter(F.col(\"ADDRESS\").contains(\"EX4 8AJ\")).show(truncate=False)"
   ]
  },
  {
   "cell_type": "code",
   "execution_count": 4,
   "metadata": {},
   "outputs": [
    {
     "name": "stdout",
     "output_type": "stream",
     "text": [
      "root\n",
      " |-- UPRN: long (nullable = true)\n",
      " |-- UDPRN: integer (nullable = true)\n",
      " |-- CHANGE_TYPE: string (nullable = true)\n",
      " |-- STATE: integer (nullable = true)\n",
      " |-- STATE_DATE: timestamp (nullable = true)\n",
      " |-- CLASS: string (nullable = true)\n",
      " |-- PARENT_UPRN: long (nullable = true)\n",
      " |-- X_COORDINATE: double (nullable = true)\n",
      " |-- Y_COORDINATE: double (nullable = true)\n",
      " |-- LATITUDE: double (nullable = true)\n",
      " |-- LONGITUDE: double (nullable = true)\n",
      " |-- RPC: integer (nullable = true)\n",
      " |-- LOCAL_CUSTODIAN_CODE: integer (nullable = true)\n",
      " |-- COUNTRY: string (nullable = true)\n",
      " |-- LA_START_DATE: timestamp (nullable = true)\n",
      " |-- LAST_UPDATE_DATE: timestamp (nullable = true)\n",
      " |-- ENTRY_DATE: timestamp (nullable = true)\n",
      " |-- RM_ORGANISATION_NAME: string (nullable = true)\n",
      " |-- LA_ORGANISATION: string (nullable = true)\n",
      " |-- DEPARTMENT_NAME: string (nullable = true)\n",
      " |-- LEGAL_NAME: string (nullable = true)\n",
      " |-- SUB_BUILDING_NAME: string (nullable = true)\n",
      " |-- BUILDING_NAME: string (nullable = true)\n",
      " |-- BUILDING_NUMBER: integer (nullable = true)\n",
      " |-- SAO_START_NUMBER: integer (nullable = true)\n",
      " |-- SAO_START_SUFFIX: string (nullable = true)\n",
      " |-- SAO_END_NUMBER: integer (nullable = true)\n",
      " |-- SAO_END_SUFFIX: string (nullable = true)\n",
      " |-- SAO_TEXT: string (nullable = true)\n",
      " |-- ALT_LANGUAGE_SAO_TEXT: string (nullable = true)\n",
      " |-- PAO_START_NUMBER: integer (nullable = true)\n",
      " |-- PAO_START_SUFFIX: string (nullable = true)\n",
      " |-- PAO_END_NUMBER: integer (nullable = true)\n",
      " |-- PAO_END_SUFFIX: string (nullable = true)\n",
      " |-- PAO_TEXT: string (nullable = true)\n",
      " |-- ALT_LANGUAGE_PAO_TEXT: string (nullable = true)\n",
      " |-- USRN: integer (nullable = true)\n",
      " |-- USRN_MATCH_INDICATOR: integer (nullable = true)\n",
      " |-- AREA_NAME: string (nullable = true)\n",
      " |-- LEVEL: string (nullable = true)\n",
      " |-- OFFICIAL_FLAG: string (nullable = true)\n",
      " |-- OS_ADDRESS_TOID: string (nullable = true)\n",
      " |-- OS_ADDRESS_TOID_VERSION: integer (nullable = true)\n",
      " |-- OS_ROADLINK_TOID: string (nullable = true)\n",
      " |-- OS_ROADLINK_TOID_VERSION: integer (nullable = true)\n",
      " |-- OS_TOPO_TOID: string (nullable = true)\n",
      " |-- OS_TOPO_TOID_VERSION: integer (nullable = true)\n",
      " |-- VOA_CT_RECORD: long (nullable = true)\n",
      " |-- VOA_NDR_RECORD: long (nullable = true)\n",
      " |-- STREET_DESCRIPTION: string (nullable = true)\n",
      " |-- ALT_LANGUAGE_STREET_DESCRIPTOR: string (nullable = true)\n",
      " |-- DEPENDENT_THOROUGHFARE: string (nullable = true)\n",
      " |-- THOROUGHFARE: string (nullable = true)\n",
      " |-- WELSH_DEPENDENT_THOROUGHFARE: string (nullable = true)\n",
      " |-- WELSH_THOROUGHFARE: string (nullable = true)\n",
      " |-- DOUBLE_DEPENDENT_LOCALITY: string (nullable = true)\n",
      " |-- DEPENDENT_LOCALITY: string (nullable = true)\n",
      " |-- LOCALITY: string (nullable = true)\n",
      " |-- WELSH_DEPENDENT_LOCALITY: string (nullable = true)\n",
      " |-- WELSH_DOUBLE_DEPENDENT_LOCALITY: string (nullable = true)\n",
      " |-- TOWN_NAME: string (nullable = true)\n",
      " |-- ADMINISTRATIVE_AREA: string (nullable = true)\n",
      " |-- POST_TOWN: string (nullable = true)\n",
      " |-- WELSH_POST_TOWN: string (nullable = true)\n",
      " |-- POSTCODE: string (nullable = true)\n",
      " |-- POSTCODE_LOCATOR: string (nullable = true)\n",
      " |-- POSTCODE_TYPE: string (nullable = true)\n",
      " |-- DELIVERY_POINT_SUFFIX: string (nullable = true)\n",
      " |-- ADDRESSBASE_POSTAL: string (nullable = true)\n",
      " |-- PO_BOX_NUMBER: integer (nullable = true)\n",
      " |-- WARD_CODE: string (nullable = true)\n",
      " |-- PARISH_CODE: string (nullable = true)\n",
      " |-- RM_START_DATE: timestamp (nullable = true)\n",
      " |-- MULTI_OCC_COUNT: integer (nullable = true)\n",
      " |-- VOA_NDR_P_DESC_CODE: string (nullable = true)\n",
      " |-- VOA_NDR_SCAT_CODE: integer (nullable = true)\n",
      " |-- ALT_LANGUAGE: string (nullable = true)\n",
      "\n"
     ]
    }
   ],
   "source": [
    "df_ab.printSchema()"
   ]
  }
 ],
 "metadata": {
  "kernelspec": {
   "display_name": "Python 3",
   "language": "python",
   "name": "python3"
  },
  "language_info": {
   "codemirror_mode": {
    "name": "ipython",
    "version": 3
   },
   "file_extension": ".py",
   "mimetype": "text/x-python",
   "name": "python",
   "nbconvert_exporter": "python",
   "pygments_lexer": "ipython3",
   "version": "3.10.13"
  }
 },
 "nbformat": 4,
 "nbformat_minor": 2
}
