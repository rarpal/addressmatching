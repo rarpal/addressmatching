{
 "cells": [
  {
   "cell_type": "code",
   "execution_count": 5,
   "metadata": {},
   "outputs": [],
   "source": [
    "from pipeline.util.platform import start_spark, start_spark_local\n",
    "from pipeline.util.storage import read_csv, read_parquet, write_parquet, write_repart_parquet\n",
    "import transform\n",
    "from pyspark.sql import functions as F"
   ]
  },
  {
   "cell_type": "code",
   "execution_count": 2,
   "metadata": {},
   "outputs": [
    {
     "name": "stdout",
     "output_type": "stream",
     "text": [
      "local\n"
     ]
    }
   ],
   "source": [
    "spark, loggrer, conf = start_spark(app_name='addessmatch_etl_job')"
   ]
  },
  {
   "cell_type": "code",
   "execution_count": 3,
   "metadata": {},
   "outputs": [],
   "source": [
    "#df_ab = transform.read_csv(spark, '../../../data/ab-plus_SX9090_withhead.csv')\n",
    "df_ab = read_csv(spark, \"{storage_landed}/data/ab-plus_SX9090_withhead.csv\".format(storage_landed = spark.conf.get('storage.landed')))"
   ]
  },
  {
   "cell_type": "code",
   "execution_count": 6,
   "metadata": {},
   "outputs": [],
   "source": [
    "#df_bldadr = transform.read_csv(spark, '../../../data/addressbatch1.csv')\n",
    "df_bldadr = read_csv(spark, \"{storage_landed}/data/addressbatch2.csv\".format(storage_landed = spark.conf.get('storage.landed')))"
   ]
  },
  {
   "cell_type": "code",
   "execution_count": 9,
   "metadata": {},
   "outputs": [],
   "source": [
    "df_abmatch = transform.prep_abmatchdframe(spark, df_ab)"
   ]
  },
  {
   "cell_type": "code",
   "execution_count": 10,
   "metadata": {},
   "outputs": [],
   "source": [
    "#transform.write__repart_parquet(spark, df_abmatch, 6, '../../../data/in/addressbase')\n",
    "write_repart_parquet(spark, df_abmatch, 6, \"{storage_curated}/data/in/addressbase\".format(storage_curated = spark.conf.get('storage.curated')))"
   ]
  },
  {
   "cell_type": "code",
   "execution_count": 11,
   "metadata": {},
   "outputs": [],
   "source": [
    "#transform.write_parquet(spark, df_bldadr, '../../../data/in/buildingaddress')\n",
    "write_parquet(spark, df_bldadr, \"{storage_curated}/data/in/buildingaddress\".format(storage_curated = spark.conf.get('storage.curated')))"
   ]
  },
  {
   "cell_type": "code",
   "execution_count": 8,
   "metadata": {},
   "outputs": [
    {
     "data": {
      "text/plain": [
       "331"
      ]
     },
     "execution_count": 8,
     "metadata": {},
     "output_type": "execute_result"
    }
   ],
   "source": [
    "#df_ab.filter(F.col(\"POSTCODE_LOCATOR\")==\"EX4 8AJ\").show(truncate=False)\n",
    "#df_abmatch.filter(F.col(\"ADDRESS\").contains(\"EX4 8AJ\")).show(truncate=False)\n",
    "#df_ab.printSchema()\n",
    "#df_ab.show(truncate=False)\n",
    "#df_bldadr.show(truncate=False)\n",
    "#df_bldadr.count()"
   ]
  }
 ],
 "metadata": {
  "kernelspec": {
   "display_name": "Python 3",
   "language": "python",
   "name": "python3"
  },
  "language_info": {
   "codemirror_mode": {
    "name": "ipython",
    "version": 3
   },
   "file_extension": ".py",
   "mimetype": "text/x-python",
   "name": "python",
   "nbconvert_exporter": "python",
   "pygments_lexer": "ipython3",
   "version": "3.10.13"
  }
 },
 "nbformat": 4,
 "nbformat_minor": 2
}
