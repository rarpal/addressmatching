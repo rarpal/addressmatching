{
 "cells": [
  {
   "cell_type": "code",
   "execution_count": 21,
   "metadata": {},
   "outputs": [],
   "source": [
    "from pipeline.util.platform import start_spark, start_spark_local\n",
    "import transform\n",
    "from pyspark.ml import Pipeline\n",
    "from pyspark.ml.feature import StopWordsRemover, Tokenizer, NGram, HashingTF, MinHashLSH, RegexTokenizer, SQLTransformer\n",
    "from pyspark.sql import functions as F"
   ]
  },
  {
   "cell_type": "code",
   "execution_count": 2,
   "metadata": {},
   "outputs": [],
   "source": [
    "spark = start_spark_local(app_name='addessmatch_etl_job')"
   ]
  },
  {
   "cell_type": "code",
   "execution_count": 9,
   "metadata": {},
   "outputs": [],
   "source": [
    "df_abmatch = transform.read_parquet(spark, '../../../data/in/addressbase')"
   ]
  },
  {
   "cell_type": "code",
   "execution_count": 22,
   "metadata": {},
   "outputs": [
    {
     "data": {
      "text/plain": [
       "51813"
      ]
     },
     "execution_count": 22,
     "metadata": {},
     "output_type": "execute_result"
    }
   ],
   "source": [
    "#df_abmatch.printSchema()\n",
    "df_abmatch.count()"
   ]
  },
  {
   "cell_type": "code",
   "execution_count": 24,
   "metadata": {},
   "outputs": [
    {
     "name": "stdout",
     "output_type": "stream",
     "text": [
      "Example transformation (51813 addresses left):\n"
     ]
    }
   ],
   "source": [
    "model = Pipeline(stages=[\n",
    "    SQLTransformer(statement=\"SELECT *, lower(ADDRESS) lower FROM __THIS__\"),\n",
    "    Tokenizer(inputCol=\"lower\", outputCol=\"token\"),\n",
    "    StopWordsRemover(inputCol=\"token\", outputCol=\"stop\"),\n",
    "    SQLTransformer(statement=\"SELECT *, concat_ws(' ', stop) concat FROM __THIS__\"),\n",
    "    RegexTokenizer(pattern=\"\", inputCol=\"concat\", outputCol=\"char\", minTokenLength=1),\n",
    "    NGram(n=2, inputCol=\"char\", outputCol=\"ngram\"),\n",
    "    HashingTF(inputCol=\"ngram\", outputCol=\"vector\"),\n",
    "    MinHashLSH(inputCol=\"vector\", outputCol=\"lsh\", numHashTables=3)\n",
    "]).fit(df_abmatch)\n",
    "\n",
    "df_abmatchtrans = model.transform(df_abmatch)\n",
    "df_abmatchtrans = df_abmatchtrans.filter(F.size(F.col(\"ngram\")) > 0)\n",
    "print(f\"Example transformation ({df_abmatchtrans.count()} addresses left):\")"
   ]
  },
  {
   "cell_type": "code",
   "execution_count": 25,
   "metadata": {},
   "outputs": [],
   "source": [
    "df_bldadr = transform.read_parquet(spark, '../../../data/in/buildingaddress')"
   ]
  },
  {
   "cell_type": "code",
   "execution_count": 26,
   "metadata": {},
   "outputs": [
    {
     "data": {
      "text/plain": [
       "10"
      ]
     },
     "execution_count": 26,
     "metadata": {},
     "output_type": "execute_result"
    }
   ],
   "source": [
    "df_bldadr.count()"
   ]
  },
  {
   "cell_type": "code",
   "execution_count": 27,
   "metadata": {},
   "outputs": [
    {
     "name": "stdout",
     "output_type": "stream",
     "text": [
      "Example transformation (10 movies left):\n"
     ]
    }
   ],
   "source": [
    "# Use pipeline previous defined\n",
    "df_bldadrtrans = model.transform(df_bldadr)\n",
    "df_bldadrtrans = df_bldadrtrans.filter(F.size(F.col(\"ngram\")) > 0)\n",
    "print(f\"Example transformation ({df_bldadrtrans.count()} movies left):\")"
   ]
  },
  {
   "cell_type": "code",
   "execution_count": 28,
   "metadata": {},
   "outputs": [
    {
     "name": "stdout",
     "output_type": "stream",
     "text": [
      "+---+--------------------------------------------------------------------------+--------------------------------------------------------------------------+---------------------------------------------------------------------------------------+-------------------------------------------------------------------------------+--------------------------------------------------------------------+------------------------------------------------------------------------------------------------------------------------------------------------------------------------------------------------------------+-----------------------------------------------------------------------------------------------------------------------------------------------------------------------------------------------------------------------------------------------------------------------------------------------------------------------------------------------+-----------------------------------------------------------------------------------------------------------------------------------------------------------------------------------------------------------------------------------------------------------------------------------------------------------------------------------------------------------------------------------------------------------------------------------------------------------------------------------------------------------------------------------------------------------+-----------------------------------------------+\n",
      "|id |address                                                                   |lower                                                                     |token                                                                                  |stop                                                                           |concat                                                              |char                                                                                                                                                                                                        |ngram                                                                                                                                                                                                                                                                                                                                          |vector                                                                                                                                                                                                                                                                                                                                                                                                                                                                                                                                                     |lsh                                            |\n",
      "+---+--------------------------------------------------------------------------+--------------------------------------------------------------------------+---------------------------------------------------------------------------------------+-------------------------------------------------------------------------------+--------------------------------------------------------------------+------------------------------------------------------------------------------------------------------------------------------------------------------------------------------------------------------------+-----------------------------------------------------------------------------------------------------------------------------------------------------------------------------------------------------------------------------------------------------------------------------------------------------------------------------------------------+-----------------------------------------------------------------------------------------------------------------------------------------------------------------------------------------------------------------------------------------------------------------------------------------------------------------------------------------------------------------------------------------------------------------------------------------------------------------------------------------------------------------------------------------------------------+-----------------------------------------------+\n",
      "|1  |The South Lawn Medical Practice, S Lawn Terrace, Heavitree, Exeter EX1 2RX|the south lawn medical practice, s lawn terrace, heavitree, exeter ex1 2rx|[the, south, lawn, medical, practice,, s, lawn, terrace,, heavitree,, exeter, ex1, 2rx]|[south, lawn, medical, practice,, lawn, terrace,, heavitree,, exeter, ex1, 2rx]|south lawn medical practice, lawn terrace, heavitree, exeter ex1 2rx|[s, o, u, t, h,  , l, a, w, n,  , m, e, d, i, c, a, l,  , p, r, a, c, t, i, c, e, ,,  , l, a, w, n,  , t, e, r, r, a, c, e, ,,  , h, e, a, v, i, t, r, e, e, ,,  , e, x, e, t, e, r,  , e, x, 1,  , 2, r, x]|[s o, o u, u t, t h, h  ,   l, l a, a w, w n, n  ,   m, m e, e d, d i, i c, c a, a l, l  ,   p, p r, r a, a c, c t, t i, i c, c e, e ,, ,  ,   l, l a, a w, w n, n  ,   t, t e, e r, r r, r a, a c, c e, e ,, ,  ,   h, h e, e a, a v, v i, i t, t r, r e, e e, e ,, ,  ,   e, e x, x e, e t, t e, e r, r  ,   e, e x, x 1, 1  ,   2, 2 r, r x]|(262144,[5118,9918,10092,10186,14007,19174,21092,22501,24293,24638,30391,31883,32718,39810,66745,68288,74007,77604,87392,92181,97768,105493,111152,111400,113312,119881,120387,121109,133502,147223,157106,162666,167178,172418,180802,186212,187032,201913,204578,208560,209534,221473,223102,233157,237828,241415,249634,251206,252749,259701],[1.0,2.0,1.0,1.0,1.0,2.0,2.0,1.0,1.0,1.0,1.0,2.0,1.0,1.0,1.0,1.0,1.0,2.0,1.0,1.0,1.0,1.0,1.0,1.0,1.0,1.0,2.0,1.0,1.0,1.0,1.0,2.0,1.0,2.0,1.0,1.0,2.0,1.0,2.0,1.0,1.0,1.0,1.0,2.0,1.0,3.0,2.0,2.0,3.0,1.0])|[[6.2318117E7], [2.0519384E7], [3.2350982E7]]  |\n",
      "|2  |Whipton, EX4 8AJ, 356A Pinhoe Rd, Exeter                                  |whipton, ex4 8aj, 356a pinhoe rd, exeter                                  |[whipton,, ex4, 8aj,, 356a, pinhoe, rd,, exeter]                                       |[whipton,, ex4, 8aj,, 356a, pinhoe, rd,, exeter]                               |whipton, ex4 8aj, 356a pinhoe rd, exeter                            |[w, h, i, p, t, o, n, ,,  , e, x, 4,  , 8, a, j, ,,  , 3, 5, 6, a,  , p, i, n, h, o, e,  , r, d, ,,  , e, x, e, t, e, r]                                                                                    |[w h, h i, i p, p t, t o, o n, n ,, ,  ,   e, e x, x 4, 4  ,   8, 8 a, a j, j ,, ,  ,   3, 3 5, 5 6, 6 a, a  ,   p, p i, i n, n h, h o, o e, e  ,   r, r d, d ,, ,  ,   e, e x, x e, e t, t e, e r]                                                                                                                                            |(262144,[6924,9918,14007,25282,48420,49629,55316,65904,70102,74007,77086,77604,81497,92453,95622,108145,109777,113312,120387,134140,146486,146971,158097,160483,160941,164750,165447,173657,182508,187032,216808,238599,249502,252749,254087],[1.0,1.0,1.0,1.0,1.0,1.0,1.0,1.0,1.0,1.0,1.0,2.0,1.0,1.0,1.0,1.0,1.0,1.0,1.0,1.0,1.0,1.0,1.0,1.0,1.0,1.0,1.0,1.0,1.0,2.0,1.0,1.0,1.0,3.0,1.0])                                                                                                                                                               |[[1.0053626E7], [1283085.0], [2.40475826E8]]   |\n",
      "|3  |356A Pinhoe Rd, Whipton, Exeter, EX4 8AJ                                  |356a pinhoe rd, whipton, exeter, ex4 8aj                                  |[356a, pinhoe, rd,, whipton,, exeter,, ex4, 8aj]                                       |[356a, pinhoe, rd,, whipton,, exeter,, ex4, 8aj]                               |356a pinhoe rd, whipton, exeter, ex4 8aj                            |[3, 5, 6, a,  , p, i, n, h, o, e,  , r, d, ,,  , w, h, i, p, t, o, n, ,,  , e, x, e, t, e, r, ,,  , e, x, 4,  , 8, a, j]                                                                                    |[3 5, 5 6, 6 a, a  ,   p, p i, i n, n h, h o, o e, e  ,   r, r d, d ,, ,  ,   w, w h, h i, i p, p t, t o, o n, n ,, ,  ,   e, e x, x e, e t, t e, e r, r ,, ,  ,   e, e x, x 4, 4  ,   8, 8 a, a j]                                                                                                                                            |(262144,[6924,9918,12701,14007,25282,48420,49629,55316,60960,65904,70102,74007,77086,77604,81497,92453,95622,108145,109777,113312,120387,134140,146486,158097,160483,160941,164750,165447,173657,187032,216808,238599,249502,252749,254087],[1.0,1.0,1.0,1.0,1.0,1.0,1.0,1.0,1.0,1.0,1.0,1.0,1.0,2.0,1.0,1.0,1.0,1.0,1.0,1.0,1.0,1.0,1.0,1.0,1.0,1.0,1.0,1.0,1.0,2.0,1.0,1.0,1.0,3.0,1.0])                                                                                                                                                                 |[[1.0053626E7], [1283085.0], [3.3146811E7]]    |\n",
      "|4  |FLAT 52D MORTIMER HOUSE GRENDON ROAD EX1 2NL                              |flat 52d mortimer house grendon road ex1 2nl                              |[flat, 52d, mortimer, house, grendon, road, ex1, 2nl]                                  |[flat, 52d, mortimer, house, grendon, road, ex1, 2nl]                          |flat 52d mortimer house grendon road ex1 2nl                        |[f, l, a, t,  , 5, 2, d,  , m, o, r, t, i, m, e, r,  , h, o, u, s, e,  , g, r, e, n, d, o, n,  , r, o, a, d,  , e, x, 1,  , 2, n, l]                                                                        |[f l, l a, a t, t  ,   5, 5 2, 2 d, d  ,   m, m o, o r, r t, t i, i m, m e, e r, r  ,   h, h o, o u, u s, s e, e  ,   g, g r, r e, e n, n d, d o, o n, n  ,   r, r o, o a, a d, d  ,   e, e x, x 1, 1  ,   2, 2 n, n l]                                                                                                                        |(262144,[6924,10092,21968,22501,23165,32718,33930,39810,50711,64304,66745,77604,81157,85282,101500,109777,111400,120382,120387,121109,135408,153952,162666,167178,170557,173206,173657,182864,183964,184957,186096,187032,189070,201913,210804,221473,233157,249502,251209,255523,259279,261512],[1.0,1.0,1.0,1.0,1.0,1.0,1.0,1.0,1.0,1.0,1.0,1.0,1.0,1.0,1.0,1.0,1.0,1.0,1.0,1.0,1.0,1.0,1.0,1.0,1.0,1.0,1.0,1.0,1.0,1.0,1.0,1.0,2.0,1.0,1.0,1.0,1.0,1.0,1.0,1.0,1.0,1.0])                                                                                |[[3.0825975E7], [1283085.0], [3.2350982E7]]    |\n",
      "|5  |Unit 3 The Exebridge Centre Exeter EX4 1AH                                |unit 3 the exebridge centre exeter ex4 1ah                                |[unit, 3, the, exebridge, centre, exeter, ex4, 1ah]                                    |[unit, 3, exebridge, centre, exeter, ex4, 1ah]                                 |unit 3 exebridge centre exeter ex4 1ah                              |[u, n, i, t,  , 3,  , e, x, e, b, r, i, d, g, e,  , c, e, n, t, r, e,  , e, x, e, t, e, r,  , e, x, 4,  , 1, a, h]                                                                                          |[u n, n i, i t, t  ,   3, 3  ,   e, e x, x e, e b, b r, r i, i d, d g, g e, e  ,   c, c e, e n, n t, t r, r e, e  ,   e, e x, x e, e t, t e, e r, r  ,   e, e x, x 4, 4  ,   1, 1 a, a h]                                                                                                                                                      |(262144,[6202,9918,14007,24293,25282,27478,41361,63039,64304,66745,77604,85282,101645,113312,120387,134655,146486,146971,148157,152282,163642,177521,187032,201913,204000,205684,209534,221039,229660,249502,249634],[1.0,1.0,2.0,1.0,1.0,1.0,1.0,1.0,1.0,1.0,3.0,1.0,1.0,1.0,1.0,1.0,1.0,1.0,1.0,1.0,1.0,1.0,3.0,1.0,1.0,1.0,1.0,1.0,1.0,2.0,1.0])                                                                                                                                                                                                        |[[3.0825975E7], [8.9848513E7], [1.93779942E8]] |\n",
      "|6  |30, Guildhall Shopping Centre, Exeter EX4 3HJ                             |30, guildhall shopping centre, exeter ex4 3hj                             |[30,, guildhall, shopping, centre,, exeter, ex4, 3hj]                                  |[30,, guildhall, shopping, centre,, exeter, ex4, 3hj]                          |30, guildhall shopping centre, exeter ex4 3hj                       |[3, 0, ,,  , g, u, i, l, d, h, a, l, l,  , s, h, o, p, p, i, n, g,  , c, e, n, t, r, e, ,,  , e, x, e, t, e, r,  , e, x, 4,  , 3, h, j]                                                                     |[3 0, 0 ,, ,  ,   g, g u, u i, i l, l d, d h, h a, a l, l l, l  ,   s, s h, h o, o p, p p, p i, i n, n g, g  ,   c, c e, e n, n t, t r, r e, e ,, ,  ,   e, e x, x e, e t, t e, e r, r  ,   e, e x, x 4, 4  ,   3, 3 h, h j]                                                                                                                   |(262144,[9918,14007,21968,25282,61915,63039,64304,66745,77086,77604,92610,104886,109777,111152,113312,120387,123850,139926,144522,144916,146486,146971,148157,150846,167349,175230,187032,188893,190260,192836,201913,209534,224151,231553,237828,241415,241873,249634,252650,252749,254087],[1.0,1.0,1.0,1.0,1.0,1.0,1.0,1.0,1.0,2.0,1.0,1.0,1.0,1.0,1.0,1.0,1.0,1.0,1.0,1.0,1.0,1.0,1.0,1.0,1.0,1.0,2.0,1.0,1.0,1.0,1.0,1.0,1.0,1.0,1.0,1.0,1.0,1.0,1.0,2.0,1.0])                                                                                        |[[1.16413768E8], [5.90165E7], [9665434.0]]     |\n",
      "|7  |Market St, Exeter EX1 1BW                                                 |market st, exeter ex1 1bw                                                 |[market, st,, exeter, ex1, 1bw]                                                        |[market, st,, exeter, ex1, 1bw]                                                |market st, exeter ex1 1bw                                           |[m, a, r, k, e, t,  , s, t, ,,  , e, x, e, t, e, r,  , e, x, 1,  , 1, b, w]                                                                                                                                 |[m a, a r, r k, k e, e t, t  ,   s, s t, t ,, ,  ,   e, e x, x e, e t, t e, e r, r  ,   e, e x, x 1, 1  ,   1, 1 b, b w]                                                                                                                                                                                                                       |(262144,[9918,14007,39810,55478,58370,66745,75555,77604,78381,85282,92610,112123,113312,120387,121109,163642,185866,187032,188288,236962,252749],[1.0,1.0,1.0,1.0,1.0,1.0,1.0,2.0,1.0,1.0,1.0,1.0,2.0,1.0,1.0,1.0,1.0,2.0,1.0,1.0,1.0])                                                                                                                                                                                                                                                                                                                    |[[1.16413768E8], [8.9848513E7], [1.93779942E8]]|\n",
      "|8  |81-82 Fore St, Exeter EX4 3HR                                             |81-82 fore st, exeter ex4 3hr                                             |[81-82, fore, st,, exeter, ex4, 3hr]                                                   |[81-82, fore, st,, exeter, ex4, 3hr]                                           |81-82 fore st, exeter ex4 3hr                                       |[8, 1, -, 8, 2,  , f, o, r, e,  , s, t, ,,  , e, x, e, t, e, r,  , e, x, 4,  , 3, h, r]                                                                                                                     |[8 1, 1 -, - 8, 8 2, 2  ,   f, f o, o r, r e, e  ,   s, s t, t ,, ,  ,   e, e x, x e, e t, t e, e r, r  ,   e, e x, x 4, 4  ,   3, 3 h, h r]                                                                                                                                                                                                   |(262144,[9918,14007,23701,25282,55478,58370,66745,77604,78978,92610,107208,113173,113312,120387,122052,134260,135408,146486,146971,187032,192836,201913,204928,249502,252749,257059],[1.0,1.0,1.0,1.0,1.0,1.0,1.0,2.0,1.0,1.0,1.0,1.0,1.0,1.0,1.0,1.0,1.0,1.0,1.0,2.0,1.0,1.0,1.0,1.0,1.0,1.0])                                                                                                                                                                                                                                                            |[[3.0825975E7], [8.9848513E7], [1.0179077E8]]  |\n",
      "|9  |36 Southernhay E, Exeter EX1 1NX                                          |36 southernhay e, exeter ex1 1nx                                          |[36, southernhay, e,, exeter, ex1, 1nx]                                                |[36, southernhay, e,, exeter, ex1, 1nx]                                        |36 southernhay e, exeter ex1 1nx                                    |[3, 6,  , s, o, u, t, h, e, r, n, h, a, y,  , e, ,,  , e, x, e, t, e, r,  , e, x, 1,  , 1, n, x]                                                                                                            |[3 6, 6  ,   s, s o, o u, u t, t h, h e, e r, r n, n h, h a, a y, y  ,   e, e ,, ,  ,   e, e x, x e, e t, t e, e r, r  ,   e, e x, x 1, 1  ,   1, 1 n, n x]                                                                                                                                                                                    |(262144,[9918,14007,22501,24638,39810,44480,49284,66745,77604,87392,92453,92610,97768,113312,120387,121109,145697,163642,176284,187032,187836,188893,203879,223102,231987,241415,252749],[1.0,1.0,1.0,1.0,1.0,1.0,1.0,1.0,3.0,1.0,1.0,1.0,1.0,1.0,2.0,1.0,1.0,1.0,1.0,2.0,1.0,1.0,1.0,1.0,1.0,1.0,1.0])                                                                                                                                                                                                                                                    |[[1.16413768E8], [5.4489351E7], [9665434.0]]   |\n",
      "|10 |6 Isleworth Rd, Exeter EX4 1QU                                            |6 isleworth rd, exeter ex4 1qu                                            |[6, isleworth, rd,, exeter, ex4, 1qu]                                                  |[6, isleworth, rd,, exeter, ex4, 1qu]                                          |6 isleworth rd, exeter ex4 1qu                                      |[6,  , i, s, l, e, w, o, r, t, h,  , r, d, ,,  , e, x, e, t, e, r,  , e, x, 4,  , 1, q, u]                                                                                                                  |[6  ,   i, i s, s l, l e, e w, w o, o r, r t, t h, h  ,   r, r d, d ,, ,  ,   e, e x, x e, e t, t e, e r, r  ,   e, e x, x 4, 4  ,   1, 1 q, q u]                                                                                                                                                                                              |(262144,[6924,9918,14007,25282,28824,66745,77604,87290,104526,113312,119881,120387,135408,146486,153952,160483,160941,163642,179437,187032,202561,203879,217077,221630,223102,240935,252749],[1.0,1.0,1.0,1.0,1.0,1.0,2.0,1.0,1.0,1.0,1.0,1.0,1.0,1.0,1.0,1.0,1.0,1.0,1.0,2.0,1.0,1.0,1.0,1.0,1.0,1.0,1.0])                                                                                                                                                                                                                                                |[[6.3896625E7], [8.9848513E7], [2.07363287E8]] |\n",
      "+---+--------------------------------------------------------------------------+--------------------------------------------------------------------------+---------------------------------------------------------------------------------------+-------------------------------------------------------------------------------+--------------------------------------------------------------------+------------------------------------------------------------------------------------------------------------------------------------------------------------------------------------------------------------+-----------------------------------------------------------------------------------------------------------------------------------------------------------------------------------------------------------------------------------------------------------------------------------------------------------------------------------------------+-----------------------------------------------------------------------------------------------------------------------------------------------------------------------------------------------------------------------------------------------------------------------------------------------------------------------------------------------------------------------------------------------------------------------------------------------------------------------------------------------------------------------------------------------------------+-----------------------------------------------+\n",
      "\n"
     ]
    }
   ],
   "source": [
    "df_bldadrtrans.show(truncate=False)"
   ]
  },
  {
   "cell_type": "code",
   "execution_count": 29,
   "metadata": {},
   "outputs": [
    {
     "name": "stdout",
     "output_type": "stream",
     "text": [
      "190 matches\n"
     ]
    }
   ],
   "source": [
    "result = model.stages[-1].approxSimilarityJoin(df_bldadrtrans, df_abmatchtrans, 0.5, \"jaccardDist\")\n",
    "print(f\"{result.count()} matches\")\n",
    "# (result\n",
    "#  .select('datasetA.id', 'datasetA.Title', 'datasetB.Title', 'jaccardDist')\n",
    "#  .sort(F.col('datasetA.id'))\n",
    "#  .show(20, True))"
   ]
  },
  {
   "cell_type": "code",
   "execution_count": 38,
   "metadata": {},
   "outputs": [
    {
     "name": "stdout",
     "output_type": "stream",
     "text": [
      "+---+--------------------------------------------------------------------------+------------+-------------------------------------------------------------------------------------------+-------------------+\n",
      "|id |address                                                                   |UPRN        |ADDRESS                                                                                    |jaccardDist        |\n",
      "+---+--------------------------------------------------------------------------+------------+-------------------------------------------------------------------------------------------+-------------------+\n",
      "|1  |The South Lawn Medical Practice, S Lawn Terrace, Heavitree, Exeter EX1 2RX|100041046145|HEAVITREE HEALTH CENTRE SOUTH LAWN TERRACE EXETER DEVON EX1 2RX                            |0.39344262295081966|\n",
      "|1  |The South Lawn Medical Practice, S Lawn Terrace, Heavitree, Exeter EX1 2RX|100041225627|HEAVITREE SCHOOL HOUSE DENTAL PRACTICE SCHOOL HOUSE SOUTH LAWN TERRACE EXETER DEVON EX1 2SN|0.4057971014492754 |\n",
      "|4  |FLAT 52D MORTIMER HOUSE GRENDON ROAD EX1 2NL                              |100040215247|FLAT 52D MORTIMER HOUSE GRENDON ROAD EXETER DEVON EX1 2NL                                  |0.1428571428571429 |\n",
      "|4  |FLAT 52D MORTIMER HOUSE GRENDON ROAD EX1 2NL                              |100040215252|FLAT 57D MORTIMER HOUSE GRENDON ROAD EXETER DEVON EX1 2NL                                  |0.21568627450980393|\n",
      "|4  |FLAT 52D MORTIMER HOUSE GRENDON ROAD EX1 2NL                              |100040215253|FLAT 58D MORTIMER HOUSE GRENDON ROAD EXETER DEVON EX1 2NL                                  |0.21568627450980393|\n",
      "|4  |FLAT 52D MORTIMER HOUSE GRENDON ROAD EX1 2NL                              |100040215251|FLAT 56D MORTIMER HOUSE GRENDON ROAD EXETER DEVON EX1 2NL                                  |0.21568627450980393|\n",
      "|4  |FLAT 52D MORTIMER HOUSE GRENDON ROAD EX1 2NL                              |100041124636|FLAT 59E MORTIMER HOUSE GRENDON ROAD EXETER DEVON EX1 2NL                                  |0.21568627450980393|\n",
      "|4  |FLAT 52D MORTIMER HOUSE GRENDON ROAD EX1 2NL                              |100040215250|FLAT 55D MORTIMER HOUSE GRENDON ROAD EXETER DEVON EX1 2NL                                  |0.21568627450980393|\n",
      "|4  |FLAT 52D MORTIMER HOUSE GRENDON ROAD EX1 2NL                              |100040215249|FLAT 54D MORTIMER HOUSE GRENDON ROAD EXETER DEVON EX1 2NL                                  |0.21568627450980393|\n",
      "|4  |FLAT 52D MORTIMER HOUSE GRENDON ROAD EX1 2NL                              |100040215248|FLAT 53D MORTIMER HOUSE GRENDON ROAD EXETER DEVON EX1 2NL                                  |0.21568627450980393|\n",
      "|4  |FLAT 52D MORTIMER HOUSE GRENDON ROAD EX1 2NL                              |100040215245|FLAT 50D MORTIMER HOUSE GRENDON ROAD EXETER DEVON EX1 2NL                                  |0.21568627450980393|\n",
      "|4  |FLAT 52D MORTIMER HOUSE GRENDON ROAD EX1 2NL                              |100040215246|FLAT 51D MORTIMER HOUSE GRENDON ROAD EXETER DEVON EX1 2NL                                  |0.21568627450980393|\n",
      "|4  |FLAT 52D MORTIMER HOUSE GRENDON ROAD EX1 2NL                              |100040215201|FLAT 5A MORTIMER HOUSE GRENDON ROAD EXETER DEVON EX1 2NL                                   |0.21568627450980393|\n",
      "|4  |FLAT 52D MORTIMER HOUSE GRENDON ROAD EX1 2NL                              |100040215224|FLAT 29C MORTIMER HOUSE GRENDON ROAD EXETER DEVON EX1 2NL                                  |0.25               |\n",
      "|4  |FLAT 52D MORTIMER HOUSE GRENDON ROAD EX1 2NL                              |100040215261|FLAT 66E MORTIMER HOUSE GRENDON ROAD EXETER DEVON EX1 2NL                                  |0.25               |\n",
      "|4  |FLAT 52D MORTIMER HOUSE GRENDON ROAD EX1 2NL                              |100040215202|FLAT 6A MORTIMER HOUSE GRENDON ROAD EXETER DEVON EX1 2NL                                   |0.25               |\n",
      "|4  |FLAT 52D MORTIMER HOUSE GRENDON ROAD EX1 2NL                              |100040215203|FLAT 7A MORTIMER HOUSE GRENDON ROAD EXETER DEVON EX1 2NL                                   |0.25               |\n",
      "|4  |FLAT 52D MORTIMER HOUSE GRENDON ROAD EX1 2NL                              |100040215205|FLAT 9A MORTIMER HOUSE GRENDON ROAD EXETER DEVON EX1 2NL                                   |0.25               |\n",
      "|4  |FLAT 52D MORTIMER HOUSE GRENDON ROAD EX1 2NL                              |100040215220|FLAT 25B MORTIMER HOUSE GRENDON ROAD EXETER DEVON EX1 2NL                                  |0.25               |\n",
      "|4  |FLAT 52D MORTIMER HOUSE GRENDON ROAD EX1 2NL                              |100040215240|FLAT 45D MORTIMER HOUSE GRENDON ROAD EXETER DEVON EX1 2NL                                  |0.25               |\n",
      "|4  |FLAT 52D MORTIMER HOUSE GRENDON ROAD EX1 2NL                              |100040215263|FLAT 69E MORTIMER HOUSE GRENDON ROAD EXETER DEVON EX1 2NL                                  |0.25               |\n",
      "|4  |FLAT 52D MORTIMER HOUSE GRENDON ROAD EX1 2NL                              |100040215244|FLAT 49D MORTIMER HOUSE GRENDON ROAD EXETER DEVON EX1 2NL                                  |0.25               |\n",
      "|4  |FLAT 52D MORTIMER HOUSE GRENDON ROAD EX1 2NL                              |100040215239|FLAT 44D MORTIMER HOUSE GRENDON ROAD EXETER DEVON EX1 2NL                                  |0.25               |\n",
      "|4  |FLAT 52D MORTIMER HOUSE GRENDON ROAD EX1 2NL                              |100040215219|FLAT 24B MORTIMER HOUSE GRENDON ROAD EXETER DEVON EX1 2NL                                  |0.25               |\n",
      "|4  |FLAT 52D MORTIMER HOUSE GRENDON ROAD EX1 2NL                              |100040215241|FLAT 46D MORTIMER HOUSE GRENDON ROAD EXETER DEVON EX1 2NL                                  |0.25               |\n",
      "|4  |FLAT 52D MORTIMER HOUSE GRENDON ROAD EX1 2NL                              |100040215217|FLAT 22B MORTIMER HOUSE GRENDON ROAD EXETER DEVON EX1 2NL                                  |0.25               |\n",
      "|4  |FLAT 52D MORTIMER HOUSE GRENDON ROAD EX1 2NL                              |100040215260|FLAT 65E MORTIMER HOUSE GRENDON ROAD EXETER DEVON EX1 2NL                                  |0.25               |\n",
      "|4  |FLAT 52D MORTIMER HOUSE GRENDON ROAD EX1 2NL                              |100040215243|FLAT 48D MORTIMER HOUSE GRENDON ROAD EXETER DEVON EX1 2NL                                  |0.25               |\n",
      "|4  |FLAT 52D MORTIMER HOUSE GRENDON ROAD EX1 2NL                              |100040215221|FLAT 26B MORTIMER HOUSE GRENDON ROAD EXETER DEVON EX1 2NL                                  |0.25               |\n",
      "|4  |FLAT 52D MORTIMER HOUSE GRENDON ROAD EX1 2NL                              |100040215223|FLAT 28B MORTIMER HOUSE GRENDON ROAD EXETER DEVON EX1 2NL                                  |0.25               |\n",
      "|4  |FLAT 52D MORTIMER HOUSE GRENDON ROAD EX1 2NL                              |10023117838 |FLAT 4A MORTIMER HOUSE GRENDON ROAD EXETER DEVON EX1 2NL                                   |0.25               |\n",
      "|4  |FLAT 52D MORTIMER HOUSE GRENDON ROAD EX1 2NL                              |100041044982|FLAT 67E MORTIMER HOUSE GRENDON ROAD EXETER DEVON EX1 2NL                                  |0.25               |\n",
      "|4  |FLAT 52D MORTIMER HOUSE GRENDON ROAD EX1 2NL                              |100040215215|FLAT 20B MORTIMER HOUSE GRENDON ROAD EXETER DEVON EX1 2NL                                  |0.25               |\n",
      "|4  |FLAT 52D MORTIMER HOUSE GRENDON ROAD EX1 2NL                              |100040215242|FLAT 47D MORTIMER HOUSE GRENDON ROAD EXETER DEVON EX1 2NL                                  |0.25               |\n",
      "|4  |FLAT 52D MORTIMER HOUSE GRENDON ROAD EX1 2NL                              |100040215259|FLAT 64E MORTIMER HOUSE GRENDON ROAD EXETER DEVON EX1 2NL                                  |0.25               |\n",
      "|4  |FLAT 52D MORTIMER HOUSE GRENDON ROAD EX1 2NL                              |100040215204|FLAT 8A MORTIMER HOUSE GRENDON ROAD EXETER DEVON EX1 2NL                                   |0.25               |\n",
      "|4  |FLAT 52D MORTIMER HOUSE GRENDON ROAD EX1 2NL                              |100040215258|FLAT 63E MORTIMER HOUSE GRENDON ROAD EXETER DEVON EX1 2NL                                  |0.25               |\n",
      "|4  |FLAT 52D MORTIMER HOUSE GRENDON ROAD EX1 2NL                              |100040215255|FLAT 60E MORTIMER HOUSE GRENDON ROAD EXETER DEVON EX1 2NL                                  |0.25               |\n",
      "|4  |FLAT 52D MORTIMER HOUSE GRENDON ROAD EX1 2NL                              |100040215222|FLAT 27B MORTIMER HOUSE GRENDON ROAD EXETER DEVON EX1 2NL                                  |0.25               |\n",
      "|4  |FLAT 52D MORTIMER HOUSE GRENDON ROAD EX1 2NL                              |100040215218|FLAT 23B MORTIMER HOUSE GRENDON ROAD EXETER DEVON EX1 2NL                                  |0.25               |\n",
      "|4  |FLAT 52D MORTIMER HOUSE GRENDON ROAD EX1 2NL                              |100040215257|FLAT 62E MORTIMER HOUSE GRENDON ROAD EXETER DEVON EX1 2NL                                  |0.25               |\n",
      "|4  |FLAT 52D MORTIMER HOUSE GRENDON ROAD EX1 2NL                              |100040215216|FLAT 21B MORTIMER HOUSE GRENDON ROAD EXETER DEVON EX1 2NL                                  |0.25               |\n",
      "|4  |FLAT 52D MORTIMER HOUSE GRENDON ROAD EX1 2NL                              |100040215256|FLAT 61E MORTIMER HOUSE GRENDON ROAD EXETER DEVON EX1 2NL                                  |0.25               |\n",
      "|4  |FLAT 52D MORTIMER HOUSE GRENDON ROAD EX1 2NL                              |100040215262|FLAT 68E MORTIMER HOUSE GRENDON ROAD EXETER DEVON EX1 2NL                                  |0.25               |\n",
      "|4  |FLAT 52D MORTIMER HOUSE GRENDON ROAD EX1 2NL                              |100040215230|FLAT 35C MORTIMER HOUSE GRENDON ROAD EXETER DEVON EX1 2NL                                  |0.26415094339622647|\n",
      "|4  |FLAT 52D MORTIMER HOUSE GRENDON ROAD EX1 2NL                              |100040215233|FLAT 38C MORTIMER HOUSE GRENDON ROAD EXETER DEVON EX1 2NL                                  |0.26415094339622647|\n",
      "|4  |FLAT 52D MORTIMER HOUSE GRENDON ROAD EX1 2NL                              |100040215236|FLAT 41C MORTIMER HOUSE GRENDON ROAD EXETER DEVON EX1 2NL                                  |0.26415094339622647|\n",
      "|4  |FLAT 52D MORTIMER HOUSE GRENDON ROAD EX1 2NL                              |100040215208|FLAT 12A MORTIMER HOUSE GRENDON ROAD EXETER DEVON EX1 2NL                                  |0.26415094339622647|\n",
      "|4  |FLAT 52D MORTIMER HOUSE GRENDON ROAD EX1 2NL                              |100040215227|FLAT 32C MORTIMER HOUSE GRENDON ROAD EXETER DEVON EX1 2NL                                  |0.26415094339622647|\n",
      "|4  |FLAT 52D MORTIMER HOUSE GRENDON ROAD EX1 2NL                              |100040215211|FLAT 16B MORTIMER HOUSE GRENDON ROAD EXETER DEVON EX1 2NL                                  |0.26415094339622647|\n",
      "|4  |FLAT 52D MORTIMER HOUSE GRENDON ROAD EX1 2NL                              |100040215229|FLAT 34C MORTIMER HOUSE GRENDON ROAD EXETER DEVON EX1 2NL                                  |0.26415094339622647|\n",
      "|4  |FLAT 52D MORTIMER HOUSE GRENDON ROAD EX1 2NL                              |100040215228|FLAT 33C MORTIMER HOUSE GRENDON ROAD EXETER DEVON EX1 2NL                                  |0.26415094339622647|\n",
      "|4  |FLAT 52D MORTIMER HOUSE GRENDON ROAD EX1 2NL                              |100040215206|FLAT 10A MORTIMER HOUSE GRENDON ROAD EXETER DEVON EX1 2NL                                  |0.26415094339622647|\n",
      "|4  |FLAT 52D MORTIMER HOUSE GRENDON ROAD EX1 2NL                              |100040215213|FLAT 18B MORTIMER HOUSE GRENDON ROAD EXETER DEVON EX1 2NL                                  |0.26415094339622647|\n",
      "|4  |FLAT 52D MORTIMER HOUSE GRENDON ROAD EX1 2NL                              |100040215232|FLAT 37C MORTIMER HOUSE GRENDON ROAD EXETER DEVON EX1 2NL                                  |0.26415094339622647|\n",
      "|4  |FLAT 52D MORTIMER HOUSE GRENDON ROAD EX1 2NL                              |100040215231|FLAT 36C MORTIMER HOUSE GRENDON ROAD EXETER DEVON EX1 2NL                                  |0.26415094339622647|\n",
      "|4  |FLAT 52D MORTIMER HOUSE GRENDON ROAD EX1 2NL                              |100040215238|FLAT 43C MORTIMER HOUSE GRENDON ROAD EXETER DEVON EX1 2NL                                  |0.26415094339622647|\n",
      "|4  |FLAT 52D MORTIMER HOUSE GRENDON ROAD EX1 2NL                              |100040215234|FLAT 39C MORTIMER HOUSE GRENDON ROAD EXETER DEVON EX1 2NL                                  |0.26415094339622647|\n",
      "|4  |FLAT 52D MORTIMER HOUSE GRENDON ROAD EX1 2NL                              |100040215235|FLAT 40C MORTIMER HOUSE GRENDON ROAD EXETER DEVON EX1 2NL                                  |0.26415094339622647|\n",
      "|4  |FLAT 52D MORTIMER HOUSE GRENDON ROAD EX1 2NL                              |100040215226|FLAT 31C MORTIMER HOUSE GRENDON ROAD EXETER DEVON EX1 2NL                                  |0.26415094339622647|\n",
      "|4  |FLAT 52D MORTIMER HOUSE GRENDON ROAD EX1 2NL                              |100040215209|FLAT 14B MORTIMER HOUSE GRENDON ROAD EXETER DEVON EX1 2NL                                  |0.26415094339622647|\n",
      "|4  |FLAT 52D MORTIMER HOUSE GRENDON ROAD EX1 2NL                              |100040215207|FLAT 11A MORTIMER HOUSE GRENDON ROAD EXETER DEVON EX1 2NL                                  |0.26415094339622647|\n",
      "|4  |FLAT 52D MORTIMER HOUSE GRENDON ROAD EX1 2NL                              |100040215212|FLAT 17B MORTIMER HOUSE GRENDON ROAD EXETER DEVON EX1 2NL                                  |0.26415094339622647|\n",
      "|4  |FLAT 52D MORTIMER HOUSE GRENDON ROAD EX1 2NL                              |100040215214|FLAT 19B MORTIMER HOUSE GRENDON ROAD EXETER DEVON EX1 2NL                                  |0.26415094339622647|\n",
      "|4  |FLAT 52D MORTIMER HOUSE GRENDON ROAD EX1 2NL                              |100040215225|FLAT 30C MORTIMER HOUSE GRENDON ROAD EXETER DEVON EX1 2NL                                  |0.26415094339622647|\n",
      "|4  |FLAT 52D MORTIMER HOUSE GRENDON ROAD EX1 2NL                              |100040215210|FLAT 15B MORTIMER HOUSE GRENDON ROAD EXETER DEVON EX1 2NL                                  |0.26415094339622647|\n",
      "|4  |FLAT 52D MORTIMER HOUSE GRENDON ROAD EX1 2NL                              |100040215237|FLAT 42C MORTIMER HOUSE GRENDON ROAD EXETER DEVON EX1 2NL                                  |0.26415094339622647|\n",
      "|4  |FLAT 52D MORTIMER HOUSE GRENDON ROAD EX1 2NL                              |100040215126|FLAT 5 FARADAY HOUSE GRENDON ROAD EXETER DEVON EX1 2NQ                                     |0.4482758620689655 |\n",
      "|4  |FLAT 52D MORTIMER HOUSE GRENDON ROAD EX1 2NL                              |100040215156|FLAT 5 GAINSBOROUGH HOUSE GRENDON ROAD EXETER DEVON EX1 2NH                                |0.44999999999999996|\n",
      "|4  |FLAT 52D MORTIMER HOUSE GRENDON ROAD EX1 2NL                              |100040215123|FLAT 5A FARADAY HOUSE GRENDON ROAD EXETER DEVON EX1 2NQ                                    |0.4576271186440678 |\n",
      "|4  |FLAT 52D MORTIMER HOUSE GRENDON ROAD EX1 2NL                              |100040215125|FLAT 5C FARADAY HOUSE GRENDON ROAD EXETER DEVON EX1 2NQ                                    |0.4576271186440678 |\n",
      "|4  |FLAT 52D MORTIMER HOUSE GRENDON ROAD EX1 2NL                              |100040215124|FLAT 5B FARADAY HOUSE GRENDON ROAD EXETER DEVON EX1 2NQ                                    |0.4576271186440678 |\n",
      "|4  |FLAT 52D MORTIMER HOUSE GRENDON ROAD EX1 2NL                              |100040215114|FLAT 2 FARADAY HOUSE GRENDON ROAD EXETER DEVON EX1 2NQ                                     |0.4655172413793104 |\n",
      "|4  |FLAT 52D MORTIMER HOUSE GRENDON ROAD EX1 2NL                              |100040215110|FLAT 1 FARADAY HOUSE GRENDON ROAD EXETER DEVON EX1 2NQ                                     |0.4655172413793104 |\n",
      "|4  |FLAT 52D MORTIMER HOUSE GRENDON ROAD EX1 2NL                              |100040215152|FLAT 1 GAINSBOROUGH HOUSE GRENDON ROAD EXETER DEVON EX1 2NH                                |0.4666666666666667 |\n",
      "|4  |FLAT 52D MORTIMER HOUSE GRENDON ROAD EX1 2NL                              |100040215172|FLAT 21 GAINSBOROUGH HOUSE GRENDON ROAD EXETER DEVON EX1 2NH                               |0.4666666666666667 |\n",
      "|4  |FLAT 52D MORTIMER HOUSE GRENDON ROAD EX1 2NL                              |100040215153|FLAT 2 GAINSBOROUGH HOUSE GRENDON ROAD EXETER DEVON EX1 2NH                                |0.4666666666666667 |\n",
      "|4  |FLAT 52D MORTIMER HOUSE GRENDON ROAD EX1 2NL                              |100040215112|FLAT 2B FARADAY HOUSE GRENDON ROAD EXETER DEVON EX1 2NQ                                    |0.47457627118644063|\n",
      "|4  |FLAT 52D MORTIMER HOUSE GRENDON ROAD EX1 2NL                              |100040215142|FLAT 9 FARADAY HOUSE GRENDON ROAD EXETER DEVON EX1 2NQ                                     |0.47457627118644063|\n",
      "|4  |FLAT 52D MORTIMER HOUSE GRENDON ROAD EX1 2NL                              |100040215122|FLAT 4 FARADAY HOUSE GRENDON ROAD EXETER DEVON EX1 2NQ                                     |0.47457627118644063|\n",
      "|4  |FLAT 52D MORTIMER HOUSE GRENDON ROAD EX1 2NL                              |100040215134|FLAT 7 FARADAY HOUSE GRENDON ROAD EXETER DEVON EX1 2NQ                                     |0.47457627118644063|\n",
      "|4  |FLAT 52D MORTIMER HOUSE GRENDON ROAD EX1 2NL                              |100040215138|FLAT 8 FARADAY HOUSE GRENDON ROAD EXETER DEVON EX1 2NQ                                     |0.47457627118644063|\n",
      "|4  |FLAT 52D MORTIMER HOUSE GRENDON ROAD EX1 2NL                              |100040215111|FLAT 2A FARADAY HOUSE GRENDON ROAD EXETER DEVON EX1 2NQ                                    |0.47457627118644063|\n",
      "|4  |FLAT 52D MORTIMER HOUSE GRENDON ROAD EX1 2NL                              |100040215113|FLAT 2C FARADAY HOUSE GRENDON ROAD EXETER DEVON EX1 2NQ                                    |0.47457627118644063|\n",
      "|4  |FLAT 52D MORTIMER HOUSE GRENDON ROAD EX1 2NL                              |100040215118|FLAT 3 FARADAY HOUSE GRENDON ROAD EXETER DEVON EX1 2NQ                                     |0.47457627118644063|\n",
      "|4  |FLAT 52D MORTIMER HOUSE GRENDON ROAD EX1 2NL                              |100040215130|FLAT 6 FARADAY HOUSE GRENDON ROAD EXETER DEVON EX1 2NQ                                     |0.47457627118644063|\n",
      "|4  |FLAT 52D MORTIMER HOUSE GRENDON ROAD EX1 2NL                              |100040215171|FLAT 20 GAINSBOROUGH HOUSE GRENDON ROAD EXETER DEVON EX1 2NH                               |0.47540983606557374|\n",
      "|4  |FLAT 52D MORTIMER HOUSE GRENDON ROAD EX1 2NL                              |100040215173|FLAT 22 GAINSBOROUGH HOUSE GRENDON ROAD EXETER DEVON EX1 2NH                               |0.47540983606557374|\n",
      "|4  |FLAT 52D MORTIMER HOUSE GRENDON ROAD EX1 2NL                              |100040215159|FLAT 8 GAINSBOROUGH HOUSE GRENDON ROAD EXETER DEVON EX1 2NH                                |0.47540983606557374|\n",
      "|4  |FLAT 52D MORTIMER HOUSE GRENDON ROAD EX1 2NL                              |100040215157|FLAT 6 GAINSBOROUGH HOUSE GRENDON ROAD EXETER DEVON EX1 2NH                                |0.47540983606557374|\n",
      "|4  |FLAT 52D MORTIMER HOUSE GRENDON ROAD EX1 2NL                              |100040215160|FLAT 9 GAINSBOROUGH HOUSE GRENDON ROAD EXETER DEVON EX1 2NH                                |0.47540983606557374|\n",
      "|4  |FLAT 52D MORTIMER HOUSE GRENDON ROAD EX1 2NL                              |100040215162|FLAT 11 GAINSBOROUGH HOUSE GRENDON ROAD EXETER DEVON EX1 2NH                               |0.47540983606557374|\n",
      "|4  |FLAT 52D MORTIMER HOUSE GRENDON ROAD EX1 2NL                              |100040215155|FLAT 4 GAINSBOROUGH HOUSE GRENDON ROAD EXETER DEVON EX1 2NH                                |0.47540983606557374|\n",
      "|4  |FLAT 52D MORTIMER HOUSE GRENDON ROAD EX1 2NL                              |100040215154|FLAT 3 GAINSBOROUGH HOUSE GRENDON ROAD EXETER DEVON EX1 2NH                                |0.47540983606557374|\n",
      "|4  |FLAT 52D MORTIMER HOUSE GRENDON ROAD EX1 2NL                              |100040215158|FLAT 7 GAINSBOROUGH HOUSE GRENDON ROAD EXETER DEVON EX1 2NH                                |0.47540983606557374|\n",
      "|4  |FLAT 52D MORTIMER HOUSE GRENDON ROAD EX1 2NL                              |100040215129|FLAT 6C FARADAY HOUSE GRENDON ROAD EXETER DEVON EX1 2NQ                                    |0.4833333333333333 |\n",
      "|4  |FLAT 52D MORTIMER HOUSE GRENDON ROAD EX1 2NL                              |100040215140|FLAT 9B FARADAY HOUSE GRENDON ROAD EXETER DEVON EX1 2NQ                                    |0.4833333333333333 |\n",
      "|4  |FLAT 52D MORTIMER HOUSE GRENDON ROAD EX1 2NL                              |100040215121|FLAT 4C FARADAY HOUSE GRENDON ROAD EXETER DEVON EX1 2NQ                                    |0.4833333333333333 |\n",
      "|4  |FLAT 52D MORTIMER HOUSE GRENDON ROAD EX1 2NL                              |100040215136|FLAT 8B FARADAY HOUSE GRENDON ROAD EXETER DEVON EX1 2NQ                                    |0.4833333333333333 |\n",
      "|4  |FLAT 52D MORTIMER HOUSE GRENDON ROAD EX1 2NL                              |100040215109|FLAT 1C FARADAY HOUSE GRENDON ROAD EXETER DEVON EX1 2NQ                                    |0.4833333333333333 |\n",
      "|4  |FLAT 52D MORTIMER HOUSE GRENDON ROAD EX1 2NL                              |100040215137|FLAT 8C FARADAY HOUSE GRENDON ROAD EXETER DEVON EX1 2NQ                                    |0.4833333333333333 |\n",
      "|4  |FLAT 52D MORTIMER HOUSE GRENDON ROAD EX1 2NL                              |100040215120|FLAT 4B FARADAY HOUSE GRENDON ROAD EXETER DEVON EX1 2NQ                                    |0.4833333333333333 |\n",
      "|4  |FLAT 52D MORTIMER HOUSE GRENDON ROAD EX1 2NL                              |100040215117|FLAT 3C FARADAY HOUSE GRENDON ROAD EXETER DEVON EX1 2NQ                                    |0.4833333333333333 |\n",
      "|4  |FLAT 52D MORTIMER HOUSE GRENDON ROAD EX1 2NL                              |100040215135|FLAT 8A FARADAY HOUSE GRENDON ROAD EXETER DEVON EX1 2NQ                                    |0.4833333333333333 |\n",
      "|4  |FLAT 52D MORTIMER HOUSE GRENDON ROAD EX1 2NL                              |100040215108|FLAT 1B FARADAY HOUSE GRENDON ROAD EXETER DEVON EX1 2NQ                                    |0.4833333333333333 |\n",
      "|4  |FLAT 52D MORTIMER HOUSE GRENDON ROAD EX1 2NL                              |100040215119|FLAT 4A FARADAY HOUSE GRENDON ROAD EXETER DEVON EX1 2NQ                                    |0.4833333333333333 |\n",
      "|4  |FLAT 52D MORTIMER HOUSE GRENDON ROAD EX1 2NL                              |100040215133|FLAT 7C FARADAY HOUSE GRENDON ROAD EXETER DEVON EX1 2NQ                                    |0.4833333333333333 |\n",
      "|4  |FLAT 52D MORTIMER HOUSE GRENDON ROAD EX1 2NL                              |100040215128|FLAT 6B FARADAY HOUSE GRENDON ROAD EXETER DEVON EX1 2NQ                                    |0.4833333333333333 |\n",
      "|4  |FLAT 52D MORTIMER HOUSE GRENDON ROAD EX1 2NL                              |100040215115|FLAT 3A FARADAY HOUSE GRENDON ROAD EXETER DEVON EX1 2NQ                                    |0.4833333333333333 |\n",
      "|4  |FLAT 52D MORTIMER HOUSE GRENDON ROAD EX1 2NL                              |100040215132|FLAT 7B FARADAY HOUSE GRENDON ROAD EXETER DEVON EX1 2NQ                                    |0.4833333333333333 |\n",
      "|4  |FLAT 52D MORTIMER HOUSE GRENDON ROAD EX1 2NL                              |100040215116|FLAT 3B FARADAY HOUSE GRENDON ROAD EXETER DEVON EX1 2NQ                                    |0.4833333333333333 |\n",
      "|4  |FLAT 52D MORTIMER HOUSE GRENDON ROAD EX1 2NL                              |100040215139|FLAT 9A FARADAY HOUSE GRENDON ROAD EXETER DEVON EX1 2NQ                                    |0.4833333333333333 |\n",
      "|4  |FLAT 52D MORTIMER HOUSE GRENDON ROAD EX1 2NL                              |100040215131|FLAT 7A FARADAY HOUSE GRENDON ROAD EXETER DEVON EX1 2NQ                                    |0.4833333333333333 |\n",
      "|4  |FLAT 52D MORTIMER HOUSE GRENDON ROAD EX1 2NL                              |100040215107|FLAT 1A FARADAY HOUSE GRENDON ROAD EXETER DEVON EX1 2NQ                                    |0.4833333333333333 |\n",
      "|4  |FLAT 52D MORTIMER HOUSE GRENDON ROAD EX1 2NL                              |100040215127|FLAT 6A FARADAY HOUSE GRENDON ROAD EXETER DEVON EX1 2NQ                                    |0.4833333333333333 |\n",
      "|4  |FLAT 52D MORTIMER HOUSE GRENDON ROAD EX1 2NL                              |100040215141|FLAT 9C FARADAY HOUSE GRENDON ROAD EXETER DEVON EX1 2NQ                                    |0.4833333333333333 |\n",
      "|4  |FLAT 52D MORTIMER HOUSE GRENDON ROAD EX1 2NL                              |100040215170|FLAT 19 GAINSBOROUGH HOUSE GRENDON ROAD EXETER DEVON EX1 2NH                               |0.4838709677419355 |\n",
      "|4  |FLAT 52D MORTIMER HOUSE GRENDON ROAD EX1 2NL                              |100040215168|FLAT 17 GAINSBOROUGH HOUSE GRENDON ROAD EXETER DEVON EX1 2NH                               |0.4838709677419355 |\n",
      "|4  |FLAT 52D MORTIMER HOUSE GRENDON ROAD EX1 2NL                              |100040215169|FLAT 18 GAINSBOROUGH HOUSE GRENDON ROAD EXETER DEVON EX1 2NH                               |0.4838709677419355 |\n",
      "|4  |FLAT 52D MORTIMER HOUSE GRENDON ROAD EX1 2NL                              |100040215161|FLAT 10 GAINSBOROUGH HOUSE GRENDON ROAD EXETER DEVON EX1 2NH                               |0.4838709677419355 |\n",
      "|4  |FLAT 52D MORTIMER HOUSE GRENDON ROAD EX1 2NL                              |100040215166|FLAT 15 GAINSBOROUGH HOUSE GRENDON ROAD EXETER DEVON EX1 2NH                               |0.4838709677419355 |\n",
      "|4  |FLAT 52D MORTIMER HOUSE GRENDON ROAD EX1 2NL                              |100040215164|FLAT 13 GAINSBOROUGH HOUSE GRENDON ROAD EXETER DEVON EX1 2NH                               |0.4838709677419355 |\n",
      "|4  |FLAT 52D MORTIMER HOUSE GRENDON ROAD EX1 2NL                              |100040215165|FLAT 14 GAINSBOROUGH HOUSE GRENDON ROAD EXETER DEVON EX1 2NH                               |0.4838709677419355 |\n",
      "|4  |FLAT 52D MORTIMER HOUSE GRENDON ROAD EX1 2NL                              |100040215167|FLAT 16 GAINSBOROUGH HOUSE GRENDON ROAD EXETER DEVON EX1 2NH                               |0.4838709677419355 |\n",
      "|4  |FLAT 52D MORTIMER HOUSE GRENDON ROAD EX1 2NL                              |100040215163|FLAT 12 GAINSBOROUGH HOUSE GRENDON ROAD EXETER DEVON EX1 2NH                               |0.4838709677419355 |\n",
      "|4  |FLAT 52D MORTIMER HOUSE GRENDON ROAD EX1 2NL                              |100040215150|FLAT 12B FARADAY HOUSE GRENDON ROAD EXETER DEVON EX1 2NQ                                   |0.4918032786885246 |\n",
      "|4  |FLAT 52D MORTIMER HOUSE GRENDON ROAD EX1 2NL                              |100040215144|FLAT 10B FARADAY HOUSE GRENDON ROAD EXETER DEVON EX1 2NQ                                   |0.4918032786885246 |\n",
      "|4  |FLAT 52D MORTIMER HOUSE GRENDON ROAD EX1 2NL                              |100040215147|FLAT 11B FARADAY HOUSE GRENDON ROAD EXETER DEVON EX1 2NQ                                   |0.4918032786885246 |\n",
      "|4  |FLAT 52D MORTIMER HOUSE GRENDON ROAD EX1 2NL                              |100040215143|FLAT 10A FARADAY HOUSE GRENDON ROAD EXETER DEVON EX1 2NQ                                   |0.4918032786885246 |\n",
      "|4  |FLAT 52D MORTIMER HOUSE GRENDON ROAD EX1 2NL                              |100040215148|FLAT 11C FARADAY HOUSE GRENDON ROAD EXETER DEVON EX1 2NQ                                   |0.4918032786885246 |\n",
      "|4  |FLAT 52D MORTIMER HOUSE GRENDON ROAD EX1 2NL                              |100040215145|FLAT 10C FARADAY HOUSE GRENDON ROAD EXETER DEVON EX1 2NQ                                   |0.4918032786885246 |\n",
      "|4  |FLAT 52D MORTIMER HOUSE GRENDON ROAD EX1 2NL                              |100040215146|FLAT 11A FARADAY HOUSE GRENDON ROAD EXETER DEVON EX1 2NQ                                   |0.4918032786885246 |\n",
      "|4  |FLAT 52D MORTIMER HOUSE GRENDON ROAD EX1 2NL                              |100040215149|FLAT 12A FARADAY HOUSE GRENDON ROAD EXETER DEVON EX1 2NQ                                   |0.4918032786885246 |\n",
      "|4  |FLAT 52D MORTIMER HOUSE GRENDON ROAD EX1 2NL                              |100040215151|FLAT 12C FARADAY HOUSE GRENDON ROAD EXETER DEVON EX1 2NQ                                   |0.4918032786885246 |\n",
      "|6  |30, Guildhall Shopping Centre, Exeter EX4 3HJ                             |10013043352 |CAR PARK FOR GUILDHALL SHOPPING CENTRE EXETER DEVON EX4 3TT                                |0.375              |\n",
      "|9  |36 Southernhay E, Exeter EX1 1NX                                          |100041046158|36 SOUTHERNHAY EAST EXETER DEVON EX1 1NX                                                   |0.32432432432432434|\n",
      "|9  |36 Southernhay E, Exeter EX1 1NX                                          |10013039543 |SOUTHERNHAY EAST EXETER DEVON EX1 1NX                                                      |0.4054054054054054 |\n",
      "|9  |36 Southernhay E, Exeter EX1 1NX                                          |10023123706 |SOUTHERNHAY EAST EXETER DEVON EX1 1NX                                                      |0.4054054054054054 |\n",
      "|9  |36 Southernhay E, Exeter EX1 1NX                                          |10013039546 |SOUTHERNHAY EAST EXETER DEVON EX1 1NX                                                      |0.4054054054054054 |\n",
      "|9  |36 Southernhay E, Exeter EX1 1NX                                          |100041123908|SOUTHERNHAY EAST EXETER DEVON EX1 1NX                                                      |0.4054054054054054 |\n",
      "|9  |36 Southernhay E, Exeter EX1 1NX                                          |10013042119 |SOUTHERNHAY EAST EXETER DEVON EX1 1NX                                                      |0.4054054054054054 |\n",
      "|9  |36 Southernhay E, Exeter EX1 1NX                                          |10013039545 |SOUTHERNHAY EAST EXETER DEVON EX1 1NX                                                      |0.4054054054054054 |\n",
      "|9  |36 Southernhay E, Exeter EX1 1NX                                          |10091469764 |SOUTHERNHAY EAST EXETER DEVON EX1 1NX                                                      |0.4054054054054054 |\n",
      "|9  |36 Southernhay E, Exeter EX1 1NX                                          |10091469759 |SOUTHERNHAY EAST EXETER DEVON EX1 1NX                                                      |0.4054054054054054 |\n",
      "|9  |36 Southernhay E, Exeter EX1 1NX                                          |100041123894|SOUTHERNHAY EAST EXETER DEVON EX1 1NS                                                      |0.4473684210526315 |\n",
      "|9  |36 Southernhay E, Exeter EX1 1NX                                          |10091470159 |SOUTHERNHAY EAST EXETER DEVON EX1 1NP                                                      |0.4473684210526315 |\n",
      "|9  |36 Southernhay E, Exeter EX1 1NX                                          |10013039539 |SOUTHERNHAY EAST EXETER DEVON EX1 1NS                                                      |0.4473684210526315 |\n",
      "|9  |36 Southernhay E, Exeter EX1 1NX                                          |10091470160 |SOUTHERNHAY EAST EXETER DEVON EX1 1NP                                                      |0.4473684210526315 |\n",
      "|9  |36 Southernhay E, Exeter EX1 1NX                                          |10023122217 |SOUTHERNHAY EAST EXETER DEVON EX1 1NS                                                      |0.4473684210526315 |\n",
      "|9  |36 Southernhay E, Exeter EX1 1NX                                          |10023123233 |SOUTHERNHAY EAST EXETER DEVON EX1 1NS                                                      |0.4473684210526315 |\n",
      "|9  |36 Southernhay E, Exeter EX1 1NX                                          |100041123888|SOUTHERNHAY EAST EXETER DEVON EX1 1NS                                                      |0.4473684210526315 |\n",
      "|9  |36 Southernhay E, Exeter EX1 1NX                                          |10023123237 |SOUTHERNHAY EAST EXETER DEVON EX1 1NS                                                      |0.4473684210526315 |\n",
      "|9  |36 Southernhay E, Exeter EX1 1NX                                          |10091470161 |SOUTHERNHAY EAST EXETER DEVON EX1 1NP                                                      |0.4473684210526315 |\n",
      "|9  |36 Southernhay E, Exeter EX1 1NX                                          |10023123385 |SOUTHERNHAY EAST EXETER DEVON EX1 1NS                                                      |0.4473684210526315 |\n",
      "|9  |36 Southernhay E, Exeter EX1 1NX                                          |10023123384 |SOUTHERNHAY EAST EXETER DEVON EX1 1NS                                                      |0.4473684210526315 |\n",
      "|9  |36 Southernhay E, Exeter EX1 1NX                                          |100041123917|SOUTHERNHAY GARDENS EXETER DEVON EX1 1NX                                                   |0.44999999999999996|\n",
      "|9  |36 Southernhay E, Exeter EX1 1NX                                          |10023123707 |SOUTHERNHAY EAST EXETER DEVON EX1 1QL                                                      |0.4871794871794872 |\n",
      "|9  |36 Southernhay E, Exeter EX1 1NX                                          |10091471415 |SOUTHERNHAY EAST EXETER DEVON EX1 1AP                                                      |0.4871794871794872 |\n",
      "|9  |36 Southernhay E, Exeter EX1 1NX                                          |10091471416 |SOUTHERNHAY EAST EXETER DEVON EX1 1AP                                                      |0.4871794871794872 |\n",
      "|9  |36 Southernhay E, Exeter EX1 1NX                                          |10091471419 |SOUTHERNHAY EAST EXETER DEVON EX1 1AP                                                      |0.4871794871794872 |\n",
      "|9  |36 Southernhay E, Exeter EX1 1NX                                          |10091471414 |SOUTHERNHAY EAST EXETER DEVON EX1 1AP                                                      |0.4871794871794872 |\n",
      "|9  |36 Southernhay E, Exeter EX1 1NX                                          |10023123235 |SOUTHERNHAY EAST EXETER DEVON EX1 1QP                                                      |0.4871794871794872 |\n",
      "|9  |36 Southernhay E, Exeter EX1 1NX                                          |100041046147|SOUTHERNHAY EAST EXETER DEVON EX1 1QD                                                      |0.4871794871794872 |\n",
      "|9  |36 Southernhay E, Exeter EX1 1NX                                          |100041124173|SOUTHERNHAY EAST EXETER DEVON EX1 1QD                                                      |0.4871794871794872 |\n",
      "|9  |36 Southernhay E, Exeter EX1 1NX                                          |10091471413 |SOUTHERNHAY EAST EXETER DEVON EX1 1AP                                                      |0.4871794871794872 |\n",
      "|9  |36 Southernhay E, Exeter EX1 1NX                                          |10013039537 |SOUTHERNHAY EAST EXETER DEVON EX1 1QP                                                      |0.4871794871794872 |\n",
      "|9  |36 Southernhay E, Exeter EX1 1NX                                          |100041046165|SOUTHERNHAY EAST EXETER DEVON EX1 1AP                                                      |0.4871794871794872 |\n",
      "|9  |36 Southernhay E, Exeter EX1 1NX                                          |10023124425 |SOUTHERNHAY EAST EXETER DEVON EX1 1AP                                                      |0.4871794871794872 |\n",
      "|9  |36 Southernhay E, Exeter EX1 1NX                                          |10091471412 |SOUTHERNHAY EAST EXETER DEVON EX1 1AP                                                      |0.4871794871794872 |\n",
      "|9  |36 Southernhay E, Exeter EX1 1NX                                          |10023123230 |SOUTHERNHAY EAST EXETER DEVON EX1 1QL                                                      |0.4871794871794872 |\n",
      "|9  |36 Southernhay E, Exeter EX1 1NX                                          |100041124264|SOUTHERNHAY EAST EXETER DEVON EX1 1QD                                                      |0.4871794871794872 |\n",
      "|9  |36 Southernhay E, Exeter EX1 1NX                                          |100041124301|SOUTHERNHAY EAST EXETER DEVON EX1 1QL                                                      |0.4871794871794872 |\n",
      "|9  |36 Southernhay E, Exeter EX1 1NX                                          |10091471418 |SOUTHERNHAY EAST EXETER DEVON EX1 1AP                                                      |0.4871794871794872 |\n",
      "|9  |36 Southernhay E, Exeter EX1 1NX                                          |100041123948|SOUTHERNHAY EAST EXETER DEVON EX1 1QU                                                      |0.4871794871794872 |\n",
      "|9  |36 Southernhay E, Exeter EX1 1NX                                          |10091471411 |SOUTHERNHAY EAST EXETER DEVON EX1 1AP                                                      |0.4871794871794872 |\n",
      "|9  |36 Southernhay E, Exeter EX1 1NX                                          |100041123954|SOUTHERNHAY EAST EXETER DEVON EX1 1QL                                                      |0.4871794871794872 |\n",
      "|9  |36 Southernhay E, Exeter EX1 1NX                                          |10023115801 |SOUTHERNHAY EAST EXETER DEVON EX1 1PZ                                                      |0.4871794871794872 |\n",
      "|9  |36 Southernhay E, Exeter EX1 1NX                                          |100041123950|SOUTHERNHAY EAST EXETER DEVON EX1 1AF                                                      |0.4871794871794872 |\n",
      "|9  |36 Southernhay E, Exeter EX1 1NX                                          |10091469760 |SOUTHERNHAY EAST EXETER DEVON EX1 1PJ                                                      |0.4871794871794872 |\n",
      "|9  |36 Southernhay E, Exeter EX1 1NX                                          |10023123234 |SOUTHERNHAY EAST EXETER DEVON EX1 1QP                                                      |0.4871794871794872 |\n",
      "|9  |36 Southernhay E, Exeter EX1 1NX                                          |10091471420 |SOUTHERNHAY EAST EXETER DEVON EX1 1AP                                                      |0.4871794871794872 |\n",
      "|9  |36 Southernhay E, Exeter EX1 1NX                                          |10091471417 |SOUTHERNHAY EAST EXETER DEVON EX1 1AP                                                      |0.4871794871794872 |\n",
      "|9  |36 Southernhay E, Exeter EX1 1NX                                          |100041046148|SOUTHERNHAY EAST EXETER DEVON EX1 1QQ                                                      |0.4871794871794872 |\n",
      "|9  |36 Southernhay E, Exeter EX1 1NX                                          |100041123921|4 SOUTHERNHAY WEST EXETER DEVON EX1 1JG                                                    |0.4878048780487805 |\n",
      "|9  |36 Southernhay E, Exeter EX1 1NX                                          |10013050493 |SOUTHERNHAY GARDENS EXETER DEVON EX1 1NP                                                   |0.4878048780487805 |\n",
      "|9  |36 Southernhay E, Exeter EX1 1NX                                          |10013041385 |SOUTHERNHAY GARDENS EXETER DEVON EX1 1NP                                                   |0.4878048780487805 |\n",
      "|9  |36 Southernhay E, Exeter EX1 1NX                                          |100041123902|SOUTHERNHAY GARDENS EXETER DEVON EX1 1NT                                                   |0.4878048780487805 |\n",
      "|9  |36 Southernhay E, Exeter EX1 1NX                                          |10013041394 |SOUTHERNHAY GARDENS EXETER DEVON EX1 1NP                                                   |0.4878048780487805 |\n",
      "|9  |36 Southernhay E, Exeter EX1 1NX                                          |10024668971 |SOUTHERNHAY GARDENS EXETER DEVON EX1 1NT                                                   |0.4878048780487805 |\n",
      "|9  |36 Southernhay E, Exeter EX1 1NX                                          |10023124324 |SOUTHERNHAY GARDENS EXETER DEVON EX1 1NT                                                   |0.4878048780487805 |\n",
      "+---+--------------------------------------------------------------------------+------------+-------------------------------------------------------------------------------------------+-------------------+\n",
      "\n"
     ]
    }
   ],
   "source": [
    "(result\n",
    "    .select('datasetA.id','datasetA.address','datasetB.UPRN','datasetB.ADDRESS','jaccardDist')\n",
    "    .sort('datasetA.id','jaccardDist')\n",
    "    .show(n=200,truncate=False))"
   ]
  },
  {
   "cell_type": "code",
   "execution_count": 33,
   "metadata": {},
   "outputs": [
    {
     "name": "stdout",
     "output_type": "stream",
     "text": [
      "root\n",
      " |-- datasetA: struct (nullable = false)\n",
      " |    |-- id: integer (nullable = true)\n",
      " |    |-- address: string (nullable = true)\n",
      " |    |-- lower: string (nullable = true)\n",
      " |    |-- token: array (nullable = true)\n",
      " |    |    |-- element: string (containsNull = true)\n",
      " |    |-- stop: array (nullable = true)\n",
      " |    |    |-- element: string (containsNull = true)\n",
      " |    |-- concat: string (nullable = false)\n",
      " |    |-- char: array (nullable = true)\n",
      " |    |    |-- element: string (containsNull = true)\n",
      " |    |-- ngram: array (nullable = true)\n",
      " |    |    |-- element: string (containsNull = true)\n",
      " |    |-- vector: vector (nullable = true)\n",
      " |    |-- lsh: array (nullable = true)\n",
      " |    |    |-- element: vector (containsNull = true)\n",
      " |-- datasetB: struct (nullable = false)\n",
      " |    |-- UPRN: long (nullable = true)\n",
      " |    |-- OUTCODE: string (nullable = true)\n",
      " |    |-- LOCALITY: string (nullable = true)\n",
      " |    |-- ADDRESS: string (nullable = true)\n",
      " |    |-- lower: string (nullable = true)\n",
      " |    |-- token: array (nullable = true)\n",
      " |    |    |-- element: string (containsNull = true)\n",
      " |    |-- stop: array (nullable = true)\n",
      " |    |    |-- element: string (containsNull = true)\n",
      " |    |-- concat: string (nullable = false)\n",
      " |    |-- char: array (nullable = true)\n",
      " |    |    |-- element: string (containsNull = true)\n",
      " |    |-- ngram: array (nullable = true)\n",
      " |    |    |-- element: string (containsNull = true)\n",
      " |    |-- vector: vector (nullable = true)\n",
      " |    |-- lsh: array (nullable = true)\n",
      " |    |    |-- element: vector (containsNull = true)\n",
      " |-- jaccardDist: double (nullable = false)\n",
      "\n"
     ]
    }
   ],
   "source": [
    "result.printSchema()"
   ]
  },
  {
   "cell_type": "code",
   "execution_count": 10,
   "metadata": {},
   "outputs": [],
   "source": [
    "sqlTrans = SQLTransformer(statement=\"SELECT *, lower(ADDRESS) lower FROM __THIS__\")\n",
    "df1 = sqlTrans.transform(df_abmatch)\n",
    "tokenizer = Tokenizer(inputCol=\"lower\", outputCol=\"token\")\n",
    "df2 = tokenizer.transform(df1)\n",
    "remover = StopWordsRemover(inputCol=\"token\", outputCol=\"stop\")\n",
    "df3 = remover.transform(df2)\n",
    "sqlTrans = SQLTransformer(statement=\"SELECT *, concat_ws(' ', stop) concat FROM __THIS__\")\n",
    "df4 = sqlTrans.transform(df3)\n",
    "rtokenizer = RegexTokenizer(pattern=\"\", inputCol=\"concat\", outputCol=\"char\", minTokenLength=1)\n",
    "df5 = rtokenizer.transform(df4)\n",
    "ngram = NGram(n=2, inputCol=\"char\", outputCol=\"ngram\")\n",
    "df6 = ngram.transform(df5)\n",
    "hashtf = HashingTF(inputCol=\"ngram\", outputCol=\"vector\")\n",
    "df7 = hashtf.transform(df6)\n",
    "minhash = MinHashLSH(inputCol=\"vector\", outputCol=\"lsh\", numHashTables=3)\n",
    "model = minhash.fit(df7)\n",
    "model.setInputCol(\"vector\")"
   ]
  },
  {
   "cell_type": "code",
   "execution_count": 20,
   "metadata": {},
   "outputs": [
    {
     "name": "stdout",
     "output_type": "stream",
     "text": [
      "+------------+-------+---------+----------------------------------------------+----------------------------------------------+-------------------------------------------------------+-------------------------------------------------------+----------------------------------------------+------------------------------------------------------------------------------------------------------------------------------------------+---------------------------------------------------------------------------------------------------------------------------------------------------------------------------------------------------------------------------------+\n",
      "|UPRN        |OUTCODE|LOCALITY |ADDRESS                                       |lower                                         |token                                                  |stop                                                   |concat                                        |char                                                                                                                                      |ngram                                                                                                                                                                                                                            |\n",
      "+------------+-------+---------+----------------------------------------------+----------------------------------------------+-------------------------------------------------------+-------------------------------------------------------+----------------------------------------------+------------------------------------------------------------------------------------------------------------------------------------------+---------------------------------------------------------------------------------------------------------------------------------------------------------------------------------------------------------------------------------+\n",
      "|100040225693|EX4    |null     |9 NEWMAN ROAD EXETER DEVON EX4 1PL            |9 newman road exeter devon ex4 1pl            |[9, newman, road, exeter, devon, ex4, 1pl]             |[9, newman, road, exeter, devon, ex4, 1pl]             |9 newman road exeter devon ex4 1pl            |[9,  , n, e, w, m, a, n,  , r, o, a, d,  , e, x, e, t, e, r,  , d, e, v, o, n,  , e, x, 4,  , 1, p, l]                                    |[9  ,   n, n e, e w, w m, m a, a n, n  ,   r, r o, o a, a d, d  ,   e, e x, x e, e t, t e, e r, r  ,   d, d e, e v, v o, o n, n  ,   e, e x, x 4, 4  ,   1, 1 p, p l]                                                            |\n",
      "|100040201964|EX4    |null     |28 BARLEY MOUNT EXETER DEVON EX4 1RP          |28 barley mount exeter devon ex4 1rp          |[28, barley, mount, exeter, devon, ex4, 1rp]           |[28, barley, mount, exeter, devon, ex4, 1rp]           |28 barley mount exeter devon ex4 1rp          |[2, 8,  , b, a, r, l, e, y,  , m, o, u, n, t,  , e, x, e, t, e, r,  , d, e, v, o, n,  , e, x, 4,  , 1, r, p]                              |[2 8, 8  ,   b, b a, a r, r l, l e, e y, y  ,   m, m o, o u, u n, n t, t  ,   e, e x, x e, e t, t e, e r, r  ,   d, d e, e v, v o, o n, n  ,   e, e x, x 4, 4  ,   1, 1 r, r p]                                                  |\n",
      "|100040213525|EX1    |HEAVITREE|159 FORE STREET HEAVITREE EXETER DEVON EX1 3BR|159 fore street heavitree exeter devon ex1 3br|[159, fore, street, heavitree, exeter, devon, ex1, 3br]|[159, fore, street, heavitree, exeter, devon, ex1, 3br]|159 fore street heavitree exeter devon ex1 3br|[1, 5, 9,  , f, o, r, e,  , s, t, r, e, e, t,  , h, e, a, v, i, t, r, e, e,  , e, x, e, t, e, r,  , d, e, v, o, n,  , e, x, 1,  , 3, b, r]|[1 5, 5 9, 9  ,   f, f o, o r, r e, e  ,   s, s t, t r, r e, e e, e t, t  ,   h, h e, e a, a v, v i, i t, t r, r e, e e, e  ,   e, e x, x e, e t, t e, e r, r  ,   d, d e, e v, v o, o n, n  ,   e, e x, x 1, 1  ,   3, 3 b, b r]|\n",
      "|100040208958|EX2    |null     |28 CORDERY ROAD EXETER DEVON EX2 9DJ          |28 cordery road exeter devon ex2 9dj          |[28, cordery, road, exeter, devon, ex2, 9dj]           |[28, cordery, road, exeter, devon, ex2, 9dj]           |28 cordery road exeter devon ex2 9dj          |[2, 8,  , c, o, r, d, e, r, y,  , r, o, a, d,  , e, x, e, t, e, r,  , d, e, v, o, n,  , e, x, 2,  , 9, d, j]                              |[2 8, 8  ,   c, c o, o r, r d, d e, e r, r y, y  ,   r, r o, o a, a d, d  ,   e, e x, x e, e t, t e, e r, r  ,   d, d e, e v, v o, o n, n  ,   e, e x, x 2, 2  ,   9, 9 d, d j]                                                  |\n",
      "|100040223544|EX2    |HEAVITREE|2 MAYFIELD ROAD HEAVITREE EXETER DEVON EX2 5HH|2 mayfield road heavitree exeter devon ex2 5hh|[2, mayfield, road, heavitree, exeter, devon, ex2, 5hh]|[2, mayfield, road, heavitree, exeter, devon, ex2, 5hh]|2 mayfield road heavitree exeter devon ex2 5hh|[2,  , m, a, y, f, i, e, l, d,  , r, o, a, d,  , h, e, a, v, i, t, r, e, e,  , e, x, e, t, e, r,  , d, e, v, o, n,  , e, x, 2,  , 5, h, h]|[2  ,   m, m a, a y, y f, f i, i e, e l, l d, d  ,   r, r o, o a, a d, d  ,   h, h e, e a, a v, v i, i t, t r, r e, e e, e  ,   e, e x, x e, e t, t e, e r, r  ,   d, d e, e v, v o, o n, n  ,   e, e x, x 2, 2  ,   5, 5 h, h h]|\n",
      "|100040221704|EX4    |null     |24 LOCARNO ROAD EXETER DEVON EX4 1QD          |24 locarno road exeter devon ex4 1qd          |[24, locarno, road, exeter, devon, ex4, 1qd]           |[24, locarno, road, exeter, devon, ex4, 1qd]           |24 locarno road exeter devon ex4 1qd          |[2, 4,  , l, o, c, a, r, n, o,  , r, o, a, d,  , e, x, e, t, e, r,  , d, e, v, o, n,  , e, x, 4,  , 1, q, d]                              |[2 4, 4  ,   l, l o, o c, c a, a r, r n, n o, o  ,   r, r o, o a, a d, d  ,   e, e x, x e, e t, t e, e r, r  ,   d, d e, e v, v o, o n, n  ,   e, e x, x 4, 4  ,   1, 1 q, q d]                                                  |\n",
      "|100040207522|EX2    |null     |5 CHURCH PATH ROAD EXETER DEVON EX2 9DF       |5 church path road exeter devon ex2 9df       |[5, church, path, road, exeter, devon, ex2, 9df]       |[5, church, path, road, exeter, devon, ex2, 9df]       |5 church path road exeter devon ex2 9df       |[5,  , c, h, u, r, c, h,  , p, a, t, h,  , r, o, a, d,  , e, x, e, t, e, r,  , d, e, v, o, n,  , e, x, 2,  , 9, d, f]                     |[5  ,   c, c h, h u, u r, r c, c h, h  ,   p, p a, a t, t h, h  ,   r, r o, o a, a d, d  ,   e, e x, x e, e t, t e, e r, r  ,   d, d e, e v, v o, o n, n  ,   e, e x, x 2, 2  ,   9, 9 d, d f]                                   |\n",
      "|100040230712|EX4    |null     |71 REDHILLS EXETER DEVON EX4 1SH              |71 redhills exeter devon ex4 1sh              |[71, redhills, exeter, devon, ex4, 1sh]                |[71, redhills, exeter, devon, ex4, 1sh]                |71 redhills exeter devon ex4 1sh              |[7, 1,  , r, e, d, h, i, l, l, s,  , e, x, e, t, e, r,  , d, e, v, o, n,  , e, x, 4,  , 1, s, h]                                          |[7 1, 1  ,   r, r e, e d, d h, h i, i l, l l, l s, s  ,   e, e x, x e, e t, t e, e r, r  ,   d, d e, e v, v o, o n, n  ,   e, e x, x 4, 4  ,   1, 1 s, s h]                                                                      |\n",
      "|100040206219|EX1    |null     |5 CAVENDISH ROAD EXETER DEVON EX1 2PB         |5 cavendish road exeter devon ex1 2pb         |[5, cavendish, road, exeter, devon, ex1, 2pb]          |[5, cavendish, road, exeter, devon, ex1, 2pb]          |5 cavendish road exeter devon ex1 2pb         |[5,  , c, a, v, e, n, d, i, s, h,  , r, o, a, d,  , e, x, e, t, e, r,  , d, e, v, o, n,  , e, x, 1,  , 2, p, b]                           |[5  ,   c, c a, a v, v e, e n, n d, d i, i s, s h, h  ,   r, r o, o a, a d, d  ,   e, e x, x e, e t, t e, e r, r  ,   d, d e, e v, v o, o n, n  ,   e, e x, x 1, 1  ,   2, 2 p, p b]                                             |\n",
      "|100040211791|EX4    |null     |9 ELLIOTT CLOSE EXETER DEVON EX4 5ED          |9 elliott close exeter devon ex4 5ed          |[9, elliott, close, exeter, devon, ex4, 5ed]           |[9, elliott, close, exeter, devon, ex4, 5ed]           |9 elliott close exeter devon ex4 5ed          |[9,  , e, l, l, i, o, t, t,  , c, l, o, s, e,  , e, x, e, t, e, r,  , d, e, v, o, n,  , e, x, 4,  , 5, e, d]                              |[9  ,   e, e l, l l, l i, i o, o t, t t, t  ,   c, c l, l o, o s, s e, e  ,   e, e x, x e, e t, t e, e r, r  ,   d, d e, e v, v o, o n, n  ,   e, e x, x 4, 4  ,   5, 5 e, e d]                                                  |\n",
      "|100040217179|EX4    |null     |21 HERSCHELL ROAD EXETER DEVON EX4 6LX        |21 herschell road exeter devon ex4 6lx        |[21, herschell, road, exeter, devon, ex4, 6lx]         |[21, herschell, road, exeter, devon, ex4, 6lx]         |21 herschell road exeter devon ex4 6lx        |[2, 1,  , h, e, r, s, c, h, e, l, l,  , r, o, a, d,  , e, x, e, t, e, r,  , d, e, v, o, n,  , e, x, 4,  , 6, l, x]                        |[2 1, 1  ,   h, h e, e r, r s, s c, c h, h e, e l, l l, l  ,   r, r o, o a, a d, d  ,   e, e x, x e, e t, t e, e r, r  ,   d, d e, e v, v o, o n, n  ,   e, e x, x 4, 4  ,   6, 6 l, l x]                                        |\n",
      "|100041143360|EX4    |null     |SIDWELL STREET EXETER DEVON EX4 6RD           |sidwell street exeter devon ex4 6rd           |[sidwell, street, exeter, devon, ex4, 6rd]             |[sidwell, street, exeter, devon, ex4, 6rd]             |sidwell street exeter devon ex4 6rd           |[s, i, d, w, e, l, l,  , s, t, r, e, e, t,  , e, x, e, t, e, r,  , d, e, v, o, n,  , e, x, 4,  , 6, r, d]                                 |[s i, i d, d w, w e, e l, l l, l  ,   s, s t, t r, r e, e e, e t, t  ,   e, e x, x e, e t, t e, e r, r  ,   d, d e, e v, v o, o n, n  ,   e, e x, x 4, 4  ,   6, 6 r, r d]                                                       |\n",
      "|100040215366|EX4    |null     |23 GUILDFORD CLOSE EXETER DEVON EX4 2HX       |23 guildford close exeter devon ex4 2hx       |[23, guildford, close, exeter, devon, ex4, 2hx]        |[23, guildford, close, exeter, devon, ex4, 2hx]        |23 guildford close exeter devon ex4 2hx       |[2, 3,  , g, u, i, l, d, f, o, r, d,  , c, l, o, s, e,  , e, x, e, t, e, r,  , d, e, v, o, n,  , e, x, 4,  , 2, h, x]                     |[2 3, 3  ,   g, g u, u i, i l, l d, d f, f o, o r, r d, d  ,   c, c l, l o, o s, s e, e  ,   e, e x, x e, e t, t e, e r, r  ,   d, d e, e v, v o, o n, n  ,   e, e x, x 4, 4  ,   2, 2 h, h x]                                   |\n",
      "|10023121699 |EX4    |null     |LOWER ARGYLL ROAD EXETER DEVON EX4 4GN        |lower argyll road exeter devon ex4 4gn        |[lower, argyll, road, exeter, devon, ex4, 4gn]         |[lower, argyll, road, exeter, devon, ex4, 4gn]         |lower argyll road exeter devon ex4 4gn        |[l, o, w, e, r,  , a, r, g, y, l, l,  , r, o, a, d,  , e, x, e, t, e, r,  , d, e, v, o, n,  , e, x, 4,  , 4, g, n]                        |[l o, o w, w e, e r, r  ,   a, a r, r g, g y, y l, l l, l  ,   r, r o, o a, a d, d  ,   e, e x, x e, e t, t e, e r, r  ,   d, d e, e v, v o, o n, n  ,   e, e x, x 4, 4  ,   4, 4 g, g n]                                        |\n",
      "|10023124091 |EX2    |null     |10 RONCHETTI WAY EXETER DEVON EX2 6EQ         |10 ronchetti way exeter devon ex2 6eq         |[10, ronchetti, way, exeter, devon, ex2, 6eq]          |[10, ronchetti, way, exeter, devon, ex2, 6eq]          |10 ronchetti way exeter devon ex2 6eq         |[1, 0,  , r, o, n, c, h, e, t, t, i,  , w, a, y,  , e, x, e, t, e, r,  , d, e, v, o, n,  , e, x, 2,  , 6, e, q]                           |[1 0, 0  ,   r, r o, o n, n c, c h, h e, e t, t t, t i, i  ,   w, w a, a y, y  ,   e, e x, x e, e t, t e, e r, r  ,   d, d e, e v, v o, o n, n  ,   e, e x, x 2, 2  ,   6, 6 e, e q]                                             |\n",
      "|100041133499|EX2    |null     |2A CHURCHILL ROAD EXETER DEVON EX2 9BU        |2a churchill road exeter devon ex2 9bu        |[2a, churchill, road, exeter, devon, ex2, 9bu]         |[2a, churchill, road, exeter, devon, ex2, 9bu]         |2a churchill road exeter devon ex2 9bu        |[2, a,  , c, h, u, r, c, h, i, l, l,  , r, o, a, d,  , e, x, e, t, e, r,  , d, e, v, o, n,  , e, x, 2,  , 9, b, u]                        |[2 a, a  ,   c, c h, h u, u r, r c, c h, h i, i l, l l, l  ,   r, r o, o a, a d, d  ,   e, e x, x e, e t, t e, e r, r  ,   d, d e, e v, v o, o n, n  ,   e, e x, x 2, 2  ,   9, 9 b, b u]                                        |\n",
      "|100040230048|EX4    |null     |36 PROSPECT PARK EXETER DEVON EX4 6NA         |36 prospect park exeter devon ex4 6na         |[36, prospect, park, exeter, devon, ex4, 6na]          |[36, prospect, park, exeter, devon, ex4, 6na]          |36 prospect park exeter devon ex4 6na         |[3, 6,  , p, r, o, s, p, e, c, t,  , p, a, r, k,  , e, x, e, t, e, r,  , d, e, v, o, n,  , e, x, 4,  , 6, n, a]                           |[3 6, 6  ,   p, p r, r o, o s, s p, p e, e c, c t, t  ,   p, p a, a r, r k, k  ,   e, e x, x e, e t, t e, e r, r  ,   d, d e, e v, v o, o n, n  ,   e, e x, x 4, 4  ,   6, 6 n, n a]                                             |\n",
      "|100040212994|EX4    |null     |202 FARM HILL EXETER DEVON EX4 2ND            |202 farm hill exeter devon ex4 2nd            |[202, farm, hill, exeter, devon, ex4, 2nd]             |[202, farm, hill, exeter, devon, ex4, 2nd]             |202 farm hill exeter devon ex4 2nd            |[2, 0, 2,  , f, a, r, m,  , h, i, l, l,  , e, x, e, t, e, r,  , d, e, v, o, n,  , e, x, 4,  , 2, n, d]                                    |[2 0, 0 2, 2  ,   f, f a, a r, r m, m  ,   h, h i, i l, l l, l  ,   e, e x, x e, e t, t e, e r, r  ,   d, d e, e v, v o, o n, n  ,   e, e x, x 4, 4  ,   2, 2 n, n d]                                                            |\n",
      "|10013040106 |EX1    |null     |WEST STREET EXETER DEVON EX1 1BB              |west street exeter devon ex1 1bb              |[west, street, exeter, devon, ex1, 1bb]                |[west, street, exeter, devon, ex1, 1bb]                |west street exeter devon ex1 1bb              |[w, e, s, t,  , s, t, r, e, e, t,  , e, x, e, t, e, r,  , d, e, v, o, n,  , e, x, 1,  , 1, b, b]                                          |[w e, e s, s t, t  ,   s, s t, t r, r e, e e, e t, t  ,   e, e x, x e, e t, t e, e r, r  ,   d, d e, e v, v o, o n, n  ,   e, e x, x 1, 1  ,   1, 1 b, b b]                                                                      |\n",
      "|10023122000 |EX2    |null     |4A CHERRY GARDENS EXETER DEVON EX2 5DJ        |4a cherry gardens exeter devon ex2 5dj        |[4a, cherry, gardens, exeter, devon, ex2, 5dj]         |[4a, cherry, gardens, exeter, devon, ex2, 5dj]         |4a cherry gardens exeter devon ex2 5dj        |[4, a,  , c, h, e, r, r, y,  , g, a, r, d, e, n, s,  , e, x, e, t, e, r,  , d, e, v, o, n,  , e, x, 2,  , 5, d, j]                        |[4 a, a  ,   c, c h, h e, e r, r r, r y, y  ,   g, g a, a r, r d, d e, e n, n s, s  ,   e, e x, x e, e t, t e, e r, r  ,   d, d e, e v, v o, o n, n  ,   e, e x, x 2, 2  ,   5, 5 d, d j]                                        |\n",
      "+------------+-------+---------+----------------------------------------------+----------------------------------------------+-------------------------------------------------------+-------------------------------------------------------+----------------------------------------------+------------------------------------------------------------------------------------------------------------------------------------------+---------------------------------------------------------------------------------------------------------------------------------------------------------------------------------------------------------------------------------+\n",
      "only showing top 20 rows\n",
      "\n"
     ]
    }
   ],
   "source": [
    "df6.show(truncate=False)"
   ]
  }
 ],
 "metadata": {
  "kernelspec": {
   "display_name": "Python 3",
   "language": "python",
   "name": "python3"
  },
  "language_info": {
   "codemirror_mode": {
    "name": "ipython",
    "version": 3
   },
   "file_extension": ".py",
   "mimetype": "text/x-python",
   "name": "python",
   "nbconvert_exporter": "python",
   "pygments_lexer": "ipython3",
   "version": "3.10.13"
  }
 },
 "nbformat": 4,
 "nbformat_minor": 2
}
