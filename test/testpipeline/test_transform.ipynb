{
 "cells": [
  {
   "cell_type": "code",
   "execution_count": 1,
   "metadata": {},
   "outputs": [],
   "source": [
    "import pipeline.transform.transform as pltr\n",
    "from pipeline.util.platform import start_spark, start_spark_local\n",
    "import unittest"
   ]
  },
  {
   "cell_type": "code",
   "execution_count": 3,
   "metadata": {},
   "outputs": [
    {
     "name": "stdout",
     "output_type": "stream",
     "text": [
      "local\n"
     ]
    }
   ],
   "source": [
    "spark, loggrer, conf = start_spark(app_name='addessmatch_etl_job')"
   ]
  },
  {
   "cell_type": "code",
   "execution_count": 33,
   "metadata": {},
   "outputs": [],
   "source": [
    "from pyspark.sql.types import StructType,StructField, StringType, IntegerType\n",
    "\n",
    "data1 = [(\n",
    "    \"100040239484\",\n",
    "    \"EX4 6QL\",\n",
    "    None,\n",
    "    None,\n",
    "    None,\n",
    "    None,\n",
    "    None,\n",
    "    25,\n",
    "    \"WELL STREET\",\n",
    "    \"WELL STREET\",\n",
    "    None,\n",
    "    \"EXETER\",\n",
    "    \"EXETER\",\n",
    "    \"DEVON\"\n",
    ")]\n",
    "\n",
    "schema = StructType([ \\\n",
    "    StructField(\"UPRN\",StringType(),True), \\\n",
    "    StructField(\"POSTCODE_LOCATOR\",StringType(),True), \\\n",
    "    StructField(\"RM_ORGANISATION_NAME\",StringType(),True), \\\n",
    "    StructField(\"LA_ORGANISATION\", StringType(), True), \\\n",
    "    StructField(\"DEPARTMENT_NAME\", StringType(), True), \\\n",
    "    StructField(\"SUB_BUILDING_NAME\", StringType(), True), \\\n",
    "    StructField(\"BUILDING_NAME\", StringType(), True), \\\n",
    "    StructField(\"BUILDING_NUMBER\",StringType(),True), \\\n",
    "    StructField(\"STREET_DESCRIPTION\",StringType(),True), \\\n",
    "    StructField(\"THOROUGHFARE\",StringType(),True), \\\n",
    "    StructField(\"LOCALITY\", StringType(), True), \\\n",
    "    StructField(\"TOWN_NAME\", StringType(), True), \\\n",
    "    StructField(\"POST_TOWN\", StringType(), True), \\\n",
    "    StructField(\"ADMINISTRATIVE_AREA\", StringType(), True) \\\n",
    "  ])\n",
    " \n",
    "df = spark.createDataFrame(data=data1,schema=schema)"
   ]
  },
  {
   "cell_type": "code",
   "execution_count": 34,
   "metadata": {},
   "outputs": [],
   "source": [
    "df_abtest = pltr.prep_abmatchdframe(spark, df)"
   ]
  },
  {
   "cell_type": "code",
   "execution_count": null,
   "metadata": {},
   "outputs": [],
   "source": [
    "class TestHelpers(unittest.TestCase):\n",
    "    def test_pre_abmatchdframe_outcode(self):\n",
    "        outcode = df_abtest.select('OUTCODE').first()[0]\n",
    "        self.assertEqual(outcode, '6QL')\n",
    "\n",
    "    def test_prep_abmatchdframe_address(self):\n",
    "        address = df_abtest.select('ADDRESS').first()[0]\n",
    "        self.assertEqual(address, '25 WELL STREET EXETER DEVON EX4 6QL')\n",
    "\n",
    "r = unittest.main(argv=[''], verbosity=2, exit=False)\n",
    "assert r.result.wasSuccessful(), 'Test failed; see logs above'"
   ]
  }
 ],
 "metadata": {
  "kernelspec": {
   "display_name": "Python 3",
   "language": "python",
   "name": "python3"
  },
  "language_info": {
   "codemirror_mode": {
    "name": "ipython",
    "version": 3
   },
   "file_extension": ".py",
   "mimetype": "text/x-python",
   "name": "python",
   "nbconvert_exporter": "python",
   "pygments_lexer": "ipython3",
   "version": "3.10.13"
  }
 },
 "nbformat": 4,
 "nbformat_minor": 2
}
